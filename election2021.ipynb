{
 "cells": [
  {
   "cell_type": "markdown",
   "metadata": {},
   "source": [
    "## TN - GENERAL ELECTION TO VIDHAN SABHA TRENDS & RESULT MAY-2021 "
   ]
  },
  {
   "cell_type": "code",
   "execution_count": 308,
   "metadata": {},
   "outputs": [],
   "source": [
    "all_parties = \\\n",
    "['All India Anna Dravida Munnetra Kazhagam',\n",
    " 'Dravida Munnetra Kazhagam', \n",
    " 'Naam Tamilar Katchi', \n",
    " 'Makkal Needhi Maiam',\n",
    " 'Amma Makkal Munnettra Kazagam',\n",
    " 'Desiya Murpokku Dravida Kazhagam',\n",
    " 'Pattali Makkal Katchi', \n",
    " 'Indian National Congress',\n",
    "'Bharatiya Janata Party',\n",
    " 'Viduthalai Chiruthaigal Katchi',\n",
    " 'Communist Party of India'\n",
    "]"
   ]
  },
  {
   "cell_type": "code",
   "execution_count": 309,
   "metadata": {},
   "outputs": [],
   "source": [
    "import matplotlib.pyplot as plt\n",
    "from bs4 import BeautifulSoup\n",
    "import requests\n",
    "import pandas as pd\n",
    "import re\n",
    "import csv\n",
    "from tqdm import tqdm\n",
    "\n",
    "plt.rcParams.update({'font.size': 6})"
   ]
  },
  {
   "cell_type": "code",
   "execution_count": 310,
   "metadata": {},
   "outputs": [
    {
     "name": "stderr",
     "output_type": "stream",
     "text": [
      "100%|████████████████████████████████████████████████████████████████████████████████| 234/234 [00:38<00:00,  6.14it/s]\n"
     ]
    }
   ],
   "source": [
    "def get_cons_data(cons = list(range(1,235))):\n",
    "    kk = 0\n",
    "    j = 1\n",
    "    all_cons = []\n",
    "    \n",
    "    dfs = []\n",
    "    df = None \n",
    "    for j in tqdm(cons):\n",
    "        url=\"https://results.eci.gov.in/Result2021/ConstituencywiseS22{}.htm\".format(j) # Site URL\n",
    "        result = 0\n",
    "        all_data = []\n",
    "        # Make a GET request to fetch the raw HTML content\n",
    "        html_content = requests.get(url).text\n",
    "        soup = BeautifulSoup(html_content, \"lxml\")\n",
    "        gdp = soup.find_all(\"table\")\n",
    "        # print(\"Number of tables on site: \",len(gdp))\n",
    "        table1 = gdp[0]\n",
    "        body = table1.find_all(\"tr\")\n",
    "        tble_all = body[6].find_all(\"tr\")[5].find_all(\"tr\")\n",
    "        ln = len(tble_all)-5\n",
    "        par_con = False\n",
    "        if ln > 0:\n",
    "            constituency = str((tble_all[0].text).strip())\n",
    "            constituency = constituency.split('-')[-1]\n",
    "#             print(j, constituency)\n",
    "            all_cons.append(constituency)\n",
    "#             party = 'All India Anna Dravida Munnetra Kazhagam'\n",
    "            last = tble_all[-2].find_all(\"td\")\n",
    "            last_row = [l.text for l in last]\n",
    "            all_votes = int(last_row[-2])\n",
    "            kk = kk +1\n",
    "            max_per = 0\n",
    "            for k in range(ln):\n",
    "                i = k+3\n",
    "                ct = tble_all[i].find_all(\"td\")\n",
    "                row = [s.text for s in ct]\n",
    "                per1 = float(row[-1]) \n",
    "                if per1 > max_per:\n",
    "                    max_per=per1\n",
    "#                 print(row)\n",
    "                all_data.append(row[1:])\n",
    "            del df    \n",
    "            df = pd.DataFrame(all_data, columns = ['Candidate' ,'Party' ,'EVM Votes', 'Postal Votes', 'Total Votes','%'])\n",
    "            dfs.append(df) \n",
    "#             print('./out/'+str(j)+ '_'+ constituency + '.csv', df)\n",
    "            df.to_csv('./out/'+str(j)+ '_'+ constituency + '.csv')\n",
    "    \n",
    "    with open('constituencies.csv', 'w') as f:     \n",
    "    \n",
    "        write = csv.writer(f)\n",
    "        write.writerow(['constituencies'])\n",
    "        for c in all_cons:\n",
    "#             print(c)\n",
    "            write.writerow([c])\n",
    "           \n",
    "    #                 print(row)\n",
    "    # print(all_data)\n",
    "\n",
    "    # print('Total constituencies:',kk)\n",
    "    return dfs\n",
    "dfs = get_cons_data()\n",
    "# dfs[0]"
   ]
  },
  {
   "cell_type": "code",
   "execution_count": 311,
   "metadata": {},
   "outputs": [
    {
     "data": {
      "text/html": [
       "<div>\n",
       "<style scoped>\n",
       "    .dataframe tbody tr th:only-of-type {\n",
       "        vertical-align: middle;\n",
       "    }\n",
       "\n",
       "    .dataframe tbody tr th {\n",
       "        vertical-align: top;\n",
       "    }\n",
       "\n",
       "    .dataframe thead th {\n",
       "        text-align: right;\n",
       "    }\n",
       "</style>\n",
       "<table border=\"1\" class=\"dataframe\">\n",
       "  <thead>\n",
       "    <tr style=\"text-align: right;\">\n",
       "      <th></th>\n",
       "      <th>Candidate</th>\n",
       "      <th>Party</th>\n",
       "      <th>EVM Votes</th>\n",
       "      <th>Postal Votes</th>\n",
       "      <th>Total Votes</th>\n",
       "      <th>%</th>\n",
       "    </tr>\n",
       "  </thead>\n",
       "  <tbody>\n",
       "    <tr>\n",
       "      <th>0</th>\n",
       "      <td>GOVINDARAJAN T.J</td>\n",
       "      <td>Dravida Munnetra Kazhagam</td>\n",
       "      <td>125001</td>\n",
       "      <td>1451</td>\n",
       "      <td>126452</td>\n",
       "      <td>56.94</td>\n",
       "    </tr>\n",
       "    <tr>\n",
       "      <th>1</th>\n",
       "      <td>DILLIY K.M</td>\n",
       "      <td>Desiya Murpokku Dravida Kazhagam</td>\n",
       "      <td>2553</td>\n",
       "      <td>23</td>\n",
       "      <td>2576</td>\n",
       "      <td>1.16</td>\n",
       "    </tr>\n",
       "    <tr>\n",
       "      <th>2</th>\n",
       "      <td>NAGARAJ S</td>\n",
       "      <td>Bahujan Samaj Party</td>\n",
       "      <td>1031</td>\n",
       "      <td>7</td>\n",
       "      <td>1038</td>\n",
       "      <td>0.47</td>\n",
       "    </tr>\n",
       "    <tr>\n",
       "      <th>3</th>\n",
       "      <td>USHA</td>\n",
       "      <td>Naam Tamilar Katchi</td>\n",
       "      <td>11643</td>\n",
       "      <td>58</td>\n",
       "      <td>11701</td>\n",
       "      <td>5.27</td>\n",
       "    </tr>\n",
       "    <tr>\n",
       "      <th>4</th>\n",
       "      <td>GOWTHAM J</td>\n",
       "      <td>Anaithu Makkal Arasiyal Katchi</td>\n",
       "      <td>254</td>\n",
       "      <td>0</td>\n",
       "      <td>254</td>\n",
       "      <td>0.11</td>\n",
       "    </tr>\n",
       "    <tr>\n",
       "      <th>5</th>\n",
       "      <td>SARAVANAN V</td>\n",
       "      <td>Indiya Jananayaka Katchi</td>\n",
       "      <td>813</td>\n",
       "      <td>3</td>\n",
       "      <td>816</td>\n",
       "      <td>0.37</td>\n",
       "    </tr>\n",
       "    <tr>\n",
       "      <th>6</th>\n",
       "      <td>PRAKASH M</td>\n",
       "      <td>Pattali Makkal Katchi</td>\n",
       "      <td>75004</td>\n",
       "      <td>510</td>\n",
       "      <td>75514</td>\n",
       "      <td>34.00</td>\n",
       "    </tr>\n",
       "    <tr>\n",
       "      <th>7</th>\n",
       "      <td>SARAVANAN E</td>\n",
       "      <td>Independent</td>\n",
       "      <td>526</td>\n",
       "      <td>6</td>\n",
       "      <td>532</td>\n",
       "      <td>0.24</td>\n",
       "    </tr>\n",
       "    <tr>\n",
       "      <th>8</th>\n",
       "      <td>DEVANATHAN R</td>\n",
       "      <td>Independent</td>\n",
       "      <td>482</td>\n",
       "      <td>0</td>\n",
       "      <td>482</td>\n",
       "      <td>0.22</td>\n",
       "    </tr>\n",
       "    <tr>\n",
       "      <th>9</th>\n",
       "      <td>PRAKASH K</td>\n",
       "      <td>Independent</td>\n",
       "      <td>349</td>\n",
       "      <td>2</td>\n",
       "      <td>351</td>\n",
       "      <td>0.16</td>\n",
       "    </tr>\n",
       "    <tr>\n",
       "      <th>10</th>\n",
       "      <td>PRAKASH M</td>\n",
       "      <td>Independent</td>\n",
       "      <td>196</td>\n",
       "      <td>0</td>\n",
       "      <td>196</td>\n",
       "      <td>0.09</td>\n",
       "    </tr>\n",
       "    <tr>\n",
       "      <th>11</th>\n",
       "      <td>LAKSHMI R</td>\n",
       "      <td>Independent</td>\n",
       "      <td>369</td>\n",
       "      <td>5</td>\n",
       "      <td>374</td>\n",
       "      <td>0.17</td>\n",
       "    </tr>\n",
       "    <tr>\n",
       "      <th>12</th>\n",
       "      <td>NOTA</td>\n",
       "      <td>None of the Above</td>\n",
       "      <td>1775</td>\n",
       "      <td>8</td>\n",
       "      <td>1783</td>\n",
       "      <td>0.80</td>\n",
       "    </tr>\n",
       "  </tbody>\n",
       "</table>\n",
       "</div>"
      ],
      "text/plain": [
       "           Candidate                             Party  EVM Votes  \\\n",
       "0   GOVINDARAJAN T.J         Dravida Munnetra Kazhagam     125001   \n",
       "1         DILLIY K.M  Desiya Murpokku Dravida Kazhagam       2553   \n",
       "2          NAGARAJ S               Bahujan Samaj Party       1031   \n",
       "3               USHA               Naam Tamilar Katchi      11643   \n",
       "4          GOWTHAM J    Anaithu Makkal Arasiyal Katchi        254   \n",
       "5        SARAVANAN V          Indiya Jananayaka Katchi        813   \n",
       "6          PRAKASH M             Pattali Makkal Katchi      75004   \n",
       "7        SARAVANAN E                       Independent        526   \n",
       "8       DEVANATHAN R                       Independent        482   \n",
       "9          PRAKASH K                       Independent        349   \n",
       "10         PRAKASH M                       Independent        196   \n",
       "11         LAKSHMI R                       Independent        369   \n",
       "12              NOTA                 None of the Above       1775   \n",
       "\n",
       "    Postal Votes  Total Votes      %  \n",
       "0           1451       126452  56.94  \n",
       "1             23         2576   1.16  \n",
       "2              7         1038   0.47  \n",
       "3             58        11701   5.27  \n",
       "4              0          254   0.11  \n",
       "5              3          816   0.37  \n",
       "6            510        75514  34.00  \n",
       "7              6          532   0.24  \n",
       "8              0          482   0.22  \n",
       "9              2          351   0.16  \n",
       "10             0          196   0.09  \n",
       "11             5          374   0.17  \n",
       "12             8         1783   0.80  "
      ]
     },
     "execution_count": 311,
     "metadata": {},
     "output_type": "execute_result"
    }
   ],
   "source": [
    "def get_cn_detail(i):\n",
    "    dfc = pd.read_csv('constituencies.csv')\n",
    "\n",
    "    cn = dfc.loc[i].to_list()[0]\n",
    "    fc = './out/'+str(i+1)+ '_' + cn + '.csv'\n",
    "#     print(fc)\n",
    "    dfnc = pd.read_csv(fc)\n",
    "#     print(dfnc)\n",
    "    dfnc = dfnc.drop(columns=['Unnamed: 0'])\n",
    "    return dfnc\n",
    "dfnc = get_cn_detail(0)\n",
    "dfnc"
   ]
  },
  {
   "cell_type": "code",
   "execution_count": 312,
   "metadata": {},
   "outputs": [],
   "source": [
    "def get_first_4(dfnc):\n",
    "    i1 = dfnc['%'].idxmax()\n",
    "    i2 = dfnc['%'].drop(index = i1).idxmax()\n",
    "\n",
    "    i3 = dfnc['%'].drop(index = i1).drop(index = i2).idxmax()\n",
    "    i4 = dfnc['%'].drop(index = i1).drop(index = i2).drop(index = i3).idxmax()\n",
    "    return i1, i2, i3, i4\n",
    "    "
   ]
  },
  {
   "cell_type": "code",
   "execution_count": 313,
   "metadata": {},
   "outputs": [],
   "source": [
    "\n",
    "def win_inf(party):\n",
    "    diffs = []\n",
    "    ntk_pers = []\n",
    "    cons = []\n",
    "    win_factr = 0 \n",
    "    wfs = []\n",
    "    winrs = []\n",
    "    for  ci in range(234):\n",
    "        wf = 0\n",
    "        dfnc = get_cn_detail(ci)\n",
    "        dfc = pd.read_csv('constituencies.csv')\n",
    "\n",
    "        cn = dfc.loc[ci].to_list()[0]\n",
    "        i1, i2, i3, i4 = get_first_4(dfnc)\n",
    "        per_diff = dfnc.loc[i1]['%'] - dfnc.loc[i2]['%']\n",
    "    #     print(per_diff)\n",
    "        if len(dfnc[dfnc['Party'] == party]) < 1:\n",
    "            continue\n",
    "        ntkper = dfnc[dfnc['Party'] == party]['%'].to_list()[0]\n",
    "        diffs.append(per_diff)\n",
    "        winrs.append(dfnc.loc[i1]['Party'])\n",
    "        ntk_pers.append(ntkper)\n",
    "        cons.append(cn)\n",
    "        if per_diff < ntkper:\n",
    "            win_factr = win_factr + 1\n",
    "            wf = 1\n",
    "        wfs.append(wf)\n",
    "\n",
    "    return ntk_pers, diffs, wfs, cons, winrs\n",
    "party = 'Naam Tamilar Katchi'\n",
    "# win_inf(party)"
   ]
  },
  {
   "cell_type": "code",
   "execution_count": 314,
   "metadata": {},
   "outputs": [],
   "source": [
    "ntk_pers, diffs, wfs, cons, winrs = win_inf('Naam Tamilar Katchi')"
   ]
  },
  {
   "cell_type": "code",
   "execution_count": 315,
   "metadata": {},
   "outputs": [
    {
     "data": {
      "text/plain": [
       "27"
      ]
     },
     "execution_count": 315,
     "metadata": {},
     "output_type": "execute_result"
    }
   ],
   "source": [
    "ntk_pers, diffs, wfs, cons, winrs = win_inf('Makkal Needhi Maiam')\n",
    "sum(wfs)\n",
    "# [ntk_pers, diffs, wfs, cons]"
   ]
  },
  {
   "cell_type": "code",
   "execution_count": null,
   "metadata": {},
   "outputs": [],
   "source": []
  },
  {
   "cell_type": "code",
   "execution_count": 316,
   "metadata": {},
   "outputs": [],
   "source": [
    "dfinf = pd.DataFrame({'PartyPer':ntk_pers, 'WinDiff':diffs, 'IsWinFactor':wfs, 'constituencies':cons, 'Winner':winrs}) #, columns = ['PartyPer', 'WinDiff', 'IsWinFactor', 'constituencies']"
   ]
  },
  {
   "cell_type": "code",
   "execution_count": 317,
   "metadata": {},
   "outputs": [],
   "source": [
    "dfinf1 = dfinf[['WinDiff', 'constituencies', 'Winner','IsWinFactor']]"
   ]
  },
  {
   "cell_type": "code",
   "execution_count": 318,
   "metadata": {},
   "outputs": [
    {
     "data": {
      "text/html": [
       "<div>\n",
       "<style scoped>\n",
       "    .dataframe tbody tr th:only-of-type {\n",
       "        vertical-align: middle;\n",
       "    }\n",
       "\n",
       "    .dataframe tbody tr th {\n",
       "        vertical-align: top;\n",
       "    }\n",
       "\n",
       "    .dataframe thead th {\n",
       "        text-align: right;\n",
       "    }\n",
       "</style>\n",
       "<table border=\"1\" class=\"dataframe\">\n",
       "  <thead>\n",
       "    <tr style=\"text-align: right;\">\n",
       "      <th></th>\n",
       "      <th>WinDiff</th>\n",
       "      <th>constituencies</th>\n",
       "      <th>Winner</th>\n",
       "      <th>IsWinFactor</th>\n",
       "    </tr>\n",
       "  </thead>\n",
       "  <tbody>\n",
       "    <tr>\n",
       "      <th>73</th>\n",
       "      <td>0.15</td>\n",
       "      <td>Modakkurichi</td>\n",
       "      <td>Bharatiya Janata Party</td>\n",
       "      <td>1</td>\n",
       "    </tr>\n",
       "    <tr>\n",
       "      <th>91</th>\n",
       "      <td>1.12</td>\n",
       "      <td>Coimbatore (South)</td>\n",
       "      <td>Bharatiya Janata Party</td>\n",
       "      <td>1</td>\n",
       "    </tr>\n",
       "  </tbody>\n",
       "</table>\n",
       "</div>"
      ],
      "text/plain": [
       "    WinDiff      constituencies                  Winner  IsWinFactor\n",
       "73     0.15        Modakkurichi  Bharatiya Janata Party            1\n",
       "91     1.12  Coimbatore (South)  Bharatiya Janata Party            1"
      ]
     },
     "execution_count": 318,
     "metadata": {},
     "output_type": "execute_result"
    }
   ],
   "source": [
    "d = 6.6\n",
    "# party = 'Indian National Congress'\n",
    "# party = 'Dravida Munnetra Kazhagam'\n",
    "# party = 'Communist Party of India'\n",
    "# party = 'Viduthalai Chiruthaigal Katchi'\n",
    "\n",
    "# party = 'All India Anna Dravida Munnetra Kazhagam'\n",
    "# party = 'Pattali Makkal Katchi'\n",
    "party = 'Bharatiya Janata Party'\n",
    "\n",
    "winw = dfinf1#[dfinf1.WinDiff < d]\n",
    "winw = winw[winw.IsWinFactor == 1]\n",
    "winw[winw.Winner==party]"
   ]
  },
  {
   "cell_type": "code",
   "execution_count": 319,
   "metadata": {},
   "outputs": [
    {
     "data": {
      "text/plain": [
       "2"
      ]
     },
     "execution_count": 319,
     "metadata": {},
     "output_type": "execute_result"
    }
   ],
   "source": [
    "len(winw[winw.Winner==party])"
   ]
  },
  {
   "cell_type": "code",
   "execution_count": 320,
   "metadata": {},
   "outputs": [],
   "source": [
    "#NTK influence on the coalition defeat \n",
    "\n",
    "INC = 12\n",
    "DMK = 41\n",
    "VCK = 3\n",
    "\n",
    "admk = 23\n",
    "pmk = 2\n",
    "bjp = 2"
   ]
  },
  {
   "cell_type": "code",
   "execution_count": 321,
   "metadata": {},
   "outputs": [],
   "source": [
    "inf_admk_deft = INC+DMK+VCK"
   ]
  },
  {
   "cell_type": "code",
   "execution_count": 322,
   "metadata": {},
   "outputs": [
    {
     "data": {
      "text/plain": [
       "56"
      ]
     },
     "execution_count": 322,
     "metadata": {},
     "output_type": "execute_result"
    }
   ],
   "source": [
    "inf_admk_deft"
   ]
  },
  {
   "cell_type": "code",
   "execution_count": 323,
   "metadata": {},
   "outputs": [],
   "source": [
    "inf_dmk_dft = admk + pmk + bjp"
   ]
  },
  {
   "cell_type": "code",
   "execution_count": 324,
   "metadata": {},
   "outputs": [
    {
     "data": {
      "text/plain": [
       "27"
      ]
     },
     "execution_count": 324,
     "metadata": {},
     "output_type": "execute_result"
    }
   ],
   "source": [
    "inf_dmk_dft"
   ]
  },
  {
   "cell_type": "code",
   "execution_count": 325,
   "metadata": {},
   "outputs": [
    {
     "data": {
      "text/plain": [
       "83"
      ]
     },
     "execution_count": 325,
     "metadata": {},
     "output_type": "execute_result"
    }
   ],
   "source": [
    "inf_admk_deft + inf_dmk_dft"
   ]
  },
  {
   "cell_type": "code",
   "execution_count": 326,
   "metadata": {},
   "outputs": [],
   "source": [
    "#MNM influence on the coalition defeat \n",
    "\n",
    "INC = 4\n",
    "DMK = 12\n",
    "VCK = 1\n",
    "\n",
    "admk = 7\n",
    "pmk = 1\n",
    "bjp = 2\n",
    "\n",
    "\n"
   ]
  },
  {
   "cell_type": "code",
   "execution_count": 327,
   "metadata": {},
   "outputs": [],
   "source": [
    "inf_admk_deft = INC+DMK+VCK\n",
    "\n",
    "inf_dmk_dft = admk + pmk + bjp"
   ]
  },
  {
   "cell_type": "code",
   "execution_count": 328,
   "metadata": {},
   "outputs": [
    {
     "data": {
      "text/plain": [
       "17"
      ]
     },
     "execution_count": 328,
     "metadata": {},
     "output_type": "execute_result"
    }
   ],
   "source": [
    "inf_admk_deft"
   ]
  },
  {
   "cell_type": "code",
   "execution_count": 329,
   "metadata": {},
   "outputs": [
    {
     "data": {
      "text/plain": [
       "10"
      ]
     },
     "execution_count": 329,
     "metadata": {},
     "output_type": "execute_result"
    }
   ],
   "source": [
    "inf_dmk_dft"
   ]
  },
  {
   "cell_type": "code",
   "execution_count": 330,
   "metadata": {},
   "outputs": [
    {
     "data": {
      "text/plain": [
       "27"
      ]
     },
     "execution_count": 330,
     "metadata": {},
     "output_type": "execute_result"
    }
   ],
   "source": [
    "inf_admk_deft + inf_dmk_dft"
   ]
  },
  {
   "cell_type": "code",
   "execution_count": 331,
   "metadata": {},
   "outputs": [],
   "source": [
    "# dfinf.plot(x=\"constituencies\", y=['PartyPer'], kind=\"bar\",color=dfinf['IsWinFactor'].replace({1: \"green\", 0: \"red\"}), title='Influence', figsize=(15, 10))"
   ]
  },
  {
   "cell_type": "code",
   "execution_count": 335,
   "metadata": {},
   "outputs": [],
   "source": [
    "def get_data(party, cons = list(range(1,235))):\n",
    "    kk = 0\n",
    "    j = 1\n",
    "    \n",
    "    all_data = []\n",
    "    for j in tqdm(cons):\n",
    "        url=\"https://results.eci.gov.in/Result2021/ConstituencywiseS22{}.htm\".format(j) # Site URL\n",
    "        result = 0\n",
    "        # Make a GET request to fetch the raw HTML content\n",
    "        html_content = requests.get(url).text\n",
    "        soup = BeautifulSoup(html_content, \"lxml\")\n",
    "        gdp = soup.find_all(\"table\")\n",
    "        # print(\"Number of tables on site: \",len(gdp))\n",
    "        table1 = gdp[0]\n",
    "        body = table1.find_all(\"tr\")\n",
    "        tble_all = body[6].find_all(\"tr\")[5].find_all(\"tr\")\n",
    "        ln = len(tble_all)-5\n",
    "        par_con = False\n",
    "        if ln > 0:\n",
    "            constituency = str((tble_all[0].text).strip())\n",
    "            constituency = constituency.split('-')[-1]\n",
    "    #         print(j, constituency)\n",
    "#             party = 'All India Anna Dravida Munnetra Kazhagam'\n",
    "            last = tble_all[-2].find_all(\"td\")\n",
    "            last_row = [l.text for l in last]\n",
    "            all_votes = int(last_row[-2])\n",
    "            kk = kk +1\n",
    "            max_per = 0\n",
    "            for k in range(ln):\n",
    "                i = k+3\n",
    "                ct = tble_all[i].find_all(\"td\")\n",
    "                row = [s.text for s in ct]\n",
    "                per1 = float(row[-1]) \n",
    "                if per1 > max_per:\n",
    "                    max_per=per1\n",
    "    #             print(row)\n",
    "                if party in row:\n",
    "                    par_con = True\n",
    "                    totVotes = row[-2]\n",
    "                    per = float(row[-1])\n",
    "            if par_con:\n",
    "                if per >= max_per:\n",
    "                    result = 1\n",
    "                data = [constituency, int(totVotes), per, all_votes, result]\n",
    "\n",
    "#                 print(constituency, per, result)\n",
    "                all_data.append(data)\n",
    "    #                 print(row)\n",
    "    # print(all_data)\n",
    "\n",
    "    # print('Total constituencies:',kk)\n",
    "    return pd.DataFrame(all_data, columns = [\"constituency\", \"Total votes\", \"%\", 'All party votes', 'result'])\n",
    "# df_admk = get_data('All India Anna Dravida Munnetra Kazhagam')"
   ]
  },
  {
   "cell_type": "markdown",
   "metadata": {},
   "source": [
    "# AIADMK"
   ]
  },
  {
   "cell_type": "code",
   "execution_count": 336,
   "metadata": {},
   "outputs": [
    {
     "name": "stderr",
     "output_type": "stream",
     "text": [
      "100%|████████████████████████████████████████████████████████████████████████████████| 234/234 [00:27<00:00,  8.56it/s]\n"
     ]
    }
   ],
   "source": [
    "df_admk = get_data('All India Anna Dravida Munnetra Kazhagam')"
   ]
  },
  {
   "cell_type": "code",
   "execution_count": 337,
   "metadata": {},
   "outputs": [
    {
     "data": {
      "text/html": [
       "<div>\n",
       "<style scoped>\n",
       "    .dataframe tbody tr th:only-of-type {\n",
       "        vertical-align: middle;\n",
       "    }\n",
       "\n",
       "    .dataframe tbody tr th {\n",
       "        vertical-align: top;\n",
       "    }\n",
       "\n",
       "    .dataframe thead th {\n",
       "        text-align: right;\n",
       "    }\n",
       "</style>\n",
       "<table border=\"1\" class=\"dataframe\">\n",
       "  <thead>\n",
       "    <tr style=\"text-align: right;\">\n",
       "      <th></th>\n",
       "      <th>Total votes</th>\n",
       "      <th>%</th>\n",
       "      <th>All party votes</th>\n",
       "      <th>result</th>\n",
       "    </tr>\n",
       "  </thead>\n",
       "  <tbody>\n",
       "    <tr>\n",
       "      <th>count</th>\n",
       "      <td>191.000000</td>\n",
       "      <td>191.000000</td>\n",
       "      <td>191.000000</td>\n",
       "      <td>191.000000</td>\n",
       "    </tr>\n",
       "    <tr>\n",
       "      <th>mean</th>\n",
       "      <td>80580.439791</td>\n",
       "      <td>40.225707</td>\n",
       "      <td>199045.722513</td>\n",
       "      <td>0.345550</td>\n",
       "    </tr>\n",
       "    <tr>\n",
       "      <th>std</th>\n",
       "      <td>22238.087682</td>\n",
       "      <td>7.996095</td>\n",
       "      <td>33756.090214</td>\n",
       "      <td>0.476797</td>\n",
       "    </tr>\n",
       "    <tr>\n",
       "      <th>min</th>\n",
       "      <td>26714.000000</td>\n",
       "      <td>18.040000</td>\n",
       "      <td>119271.000000</td>\n",
       "      <td>0.000000</td>\n",
       "    </tr>\n",
       "    <tr>\n",
       "      <th>25%</th>\n",
       "      <td>65569.500000</td>\n",
       "      <td>35.825000</td>\n",
       "      <td>178914.000000</td>\n",
       "      <td>0.000000</td>\n",
       "    </tr>\n",
       "    <tr>\n",
       "      <th>50%</th>\n",
       "      <td>82153.000000</td>\n",
       "      <td>40.660000</td>\n",
       "      <td>197165.000000</td>\n",
       "      <td>0.000000</td>\n",
       "    </tr>\n",
       "    <tr>\n",
       "      <th>75%</th>\n",
       "      <td>93750.000000</td>\n",
       "      <td>46.100000</td>\n",
       "      <td>212853.500000</td>\n",
       "      <td>1.000000</td>\n",
       "    </tr>\n",
       "    <tr>\n",
       "      <th>max</th>\n",
       "      <td>163154.000000</td>\n",
       "      <td>65.970000</td>\n",
       "      <td>388355.000000</td>\n",
       "      <td>1.000000</td>\n",
       "    </tr>\n",
       "  </tbody>\n",
       "</table>\n",
       "</div>"
      ],
      "text/plain": [
       "         Total votes           %  All party votes      result\n",
       "count     191.000000  191.000000       191.000000  191.000000\n",
       "mean    80580.439791   40.225707    199045.722513    0.345550\n",
       "std     22238.087682    7.996095     33756.090214    0.476797\n",
       "min     26714.000000   18.040000    119271.000000    0.000000\n",
       "25%     65569.500000   35.825000    178914.000000    0.000000\n",
       "50%     82153.000000   40.660000    197165.000000    0.000000\n",
       "75%     93750.000000   46.100000    212853.500000    1.000000\n",
       "max    163154.000000   65.970000    388355.000000    1.000000"
      ]
     },
     "execution_count": 337,
     "metadata": {},
     "output_type": "execute_result"
    }
   ],
   "source": [
    "df_admk.describe()"
   ]
  },
  {
   "cell_type": "code",
   "execution_count": 338,
   "metadata": {},
   "outputs": [
    {
     "data": {
      "text/plain": [
       "66"
      ]
     },
     "execution_count": 338,
     "metadata": {},
     "output_type": "execute_result"
    }
   ],
   "source": [
    "df_admk.result.sum()"
   ]
  },
  {
   "cell_type": "code",
   "execution_count": 339,
   "metadata": {},
   "outputs": [
    {
     "name": "stdout",
     "output_type": "stream",
     "text": [
      "Overall vote percentage = 40.483 %\n"
     ]
    }
   ],
   "source": [
    "vote_per = 100*df_admk[\"Total votes\"].sum()/df_admk['All party votes'].sum()\n",
    "print('Overall vote percentage = {0:.3f} %'.format(vote_per))"
   ]
  },
  {
   "cell_type": "code",
   "execution_count": 340,
   "metadata": {},
   "outputs": [
    {
     "data": {
      "text/plain": [
       "<AxesSubplot:title={'center':'AIADMK'}, xlabel='constituency'>"
      ]
     },
     "execution_count": 340,
     "metadata": {},
     "output_type": "execute_result"
    },
    {
     "data": {
      "image/png": "[encoded data removed]",
      "text/plain": [
       "<Figure size 1080x720 with 1 Axes>"
      ]
     },
     "metadata": {
      "needs_background": "light"
     },
     "output_type": "display_data"
    }
   ],
   "source": [
    "df_admk.plot(x=\"constituency\", y=\"%\", kind=\"bar\",color=df_admk['result'].replace({1: \"green\", 0: \"red\"}), title='AIADMK', figsize=(15, 10))"
   ]
  },
  {
   "cell_type": "code",
   "execution_count": 341,
   "metadata": {},
   "outputs": [
    {
     "data": {
      "text/html": [
       "<div>\n",
       "<style scoped>\n",
       "    .dataframe tbody tr th:only-of-type {\n",
       "        vertical-align: middle;\n",
       "    }\n",
       "\n",
       "    .dataframe tbody tr th {\n",
       "        vertical-align: top;\n",
       "    }\n",
       "\n",
       "    .dataframe thead th {\n",
       "        text-align: right;\n",
       "    }\n",
       "</style>\n",
       "<table border=\"1\" class=\"dataframe\">\n",
       "  <thead>\n",
       "    <tr style=\"text-align: right;\">\n",
       "      <th></th>\n",
       "      <th>constituency</th>\n",
       "      <th>Total votes</th>\n",
       "      <th>%</th>\n",
       "      <th>All party votes</th>\n",
       "      <th>result</th>\n",
       "    </tr>\n",
       "  </thead>\n",
       "  <tbody>\n",
       "    <tr>\n",
       "      <th>28</th>\n",
       "      <td>Madurantakam</td>\n",
       "      <td>86646</td>\n",
       "      <td>46.62</td>\n",
       "      <td>185842</td>\n",
       "      <td>1</td>\n",
       "    </tr>\n",
       "    <tr>\n",
       "      <th>30</th>\n",
       "      <td>Arakkonam</td>\n",
       "      <td>85399</td>\n",
       "      <td>49.82</td>\n",
       "      <td>171412</td>\n",
       "      <td>1</td>\n",
       "    </tr>\n",
       "    <tr>\n",
       "      <th>31</th>\n",
       "      <td>Katpadi</td>\n",
       "      <td>84394</td>\n",
       "      <td>45.31</td>\n",
       "      <td>186246</td>\n",
       "      <td>0</td>\n",
       "    </tr>\n",
       "    <tr>\n",
       "      <th>35</th>\n",
       "      <td>Kilvaithinankuppam</td>\n",
       "      <td>84579</td>\n",
       "      <td>48.57</td>\n",
       "      <td>174124</td>\n",
       "      <td>1</td>\n",
       "    </tr>\n",
       "    <tr>\n",
       "      <th>37</th>\n",
       "      <td>Vaniyambadi</td>\n",
       "      <td>88018</td>\n",
       "      <td>46.33</td>\n",
       "      <td>189997</td>\n",
       "      <td>1</td>\n",
       "    </tr>\n",
       "    <tr>\n",
       "      <th>39</th>\n",
       "      <td>Jolarpet</td>\n",
       "      <td>88399</td>\n",
       "      <td>45.02</td>\n",
       "      <td>196358</td>\n",
       "      <td>0</td>\n",
       "    </tr>\n",
       "    <tr>\n",
       "      <th>40</th>\n",
       "      <td>Uthangarai</td>\n",
       "      <td>99675</td>\n",
       "      <td>52.96</td>\n",
       "      <td>188223</td>\n",
       "      <td>1</td>\n",
       "    </tr>\n",
       "    <tr>\n",
       "      <th>42</th>\n",
       "      <td>Krishnagiri</td>\n",
       "      <td>96050</td>\n",
       "      <td>45.38</td>\n",
       "      <td>211648</td>\n",
       "      <td>1</td>\n",
       "    </tr>\n",
       "    <tr>\n",
       "      <th>43</th>\n",
       "      <td>Veppanahalli</td>\n",
       "      <td>94104</td>\n",
       "      <td>45.87</td>\n",
       "      <td>205141</td>\n",
       "      <td>1</td>\n",
       "    </tr>\n",
       "    <tr>\n",
       "      <th>45</th>\n",
       "      <td>Palacode</td>\n",
       "      <td>110070</td>\n",
       "      <td>53.28</td>\n",
       "      <td>206595</td>\n",
       "      <td>1</td>\n",
       "    </tr>\n",
       "    <tr>\n",
       "      <th>46</th>\n",
       "      <td>Pappireddipatti</td>\n",
       "      <td>114507</td>\n",
       "      <td>51.81</td>\n",
       "      <td>220994</td>\n",
       "      <td>1</td>\n",
       "    </tr>\n",
       "    <tr>\n",
       "      <th>47</th>\n",
       "      <td>Harur</td>\n",
       "      <td>99061</td>\n",
       "      <td>49.89</td>\n",
       "      <td>198565</td>\n",
       "      <td>1</td>\n",
       "    </tr>\n",
       "    <tr>\n",
       "      <th>50</th>\n",
       "      <td>Polur</td>\n",
       "      <td>97732</td>\n",
       "      <td>48.38</td>\n",
       "      <td>202012</td>\n",
       "      <td>1</td>\n",
       "    </tr>\n",
       "    <tr>\n",
       "      <th>51</th>\n",
       "      <td>Arani</td>\n",
       "      <td>102961</td>\n",
       "      <td>46.50</td>\n",
       "      <td>221422</td>\n",
       "      <td>1</td>\n",
       "    </tr>\n",
       "    <tr>\n",
       "      <th>53</th>\n",
       "      <td>Tindivanam</td>\n",
       "      <td>87152</td>\n",
       "      <td>47.74</td>\n",
       "      <td>182538</td>\n",
       "      <td>1</td>\n",
       "    </tr>\n",
       "    <tr>\n",
       "      <th>54</th>\n",
       "      <td>Vanur</td>\n",
       "      <td>92219</td>\n",
       "      <td>50.61</td>\n",
       "      <td>182208</td>\n",
       "      <td>1</td>\n",
       "    </tr>\n",
       "    <tr>\n",
       "      <th>59</th>\n",
       "      <td>Kallakurichi</td>\n",
       "      <td>110643</td>\n",
       "      <td>48.99</td>\n",
       "      <td>225858</td>\n",
       "      <td>1</td>\n",
       "    </tr>\n",
       "    <tr>\n",
       "      <th>60</th>\n",
       "      <td>Gangavalli</td>\n",
       "      <td>89568</td>\n",
       "      <td>48.02</td>\n",
       "      <td>186503</td>\n",
       "      <td>1</td>\n",
       "    </tr>\n",
       "    <tr>\n",
       "      <th>61</th>\n",
       "      <td>Attur</td>\n",
       "      <td>95308</td>\n",
       "      <td>47.72</td>\n",
       "      <td>199743</td>\n",
       "      <td>1</td>\n",
       "    </tr>\n",
       "    <tr>\n",
       "      <th>62</th>\n",
       "      <td>Yercaud</td>\n",
       "      <td>121561</td>\n",
       "      <td>50.88</td>\n",
       "      <td>238924</td>\n",
       "      <td>1</td>\n",
       "    </tr>\n",
       "    <tr>\n",
       "      <th>63</th>\n",
       "      <td>Omalur</td>\n",
       "      <td>142488</td>\n",
       "      <td>57.22</td>\n",
       "      <td>249027</td>\n",
       "      <td>1</td>\n",
       "    </tr>\n",
       "    <tr>\n",
       "      <th>64</th>\n",
       "      <td>Edappadi</td>\n",
       "      <td>163154</td>\n",
       "      <td>65.97</td>\n",
       "      <td>247301</td>\n",
       "      <td>1</td>\n",
       "    </tr>\n",
       "    <tr>\n",
       "      <th>65</th>\n",
       "      <td>Sankari</td>\n",
       "      <td>115472</td>\n",
       "      <td>49.72</td>\n",
       "      <td>232247</td>\n",
       "      <td>1</td>\n",
       "    </tr>\n",
       "    <tr>\n",
       "      <th>67</th>\n",
       "      <td>Salem (South)</td>\n",
       "      <td>97506</td>\n",
       "      <td>48.76</td>\n",
       "      <td>199982</td>\n",
       "      <td>1</td>\n",
       "    </tr>\n",
       "    <tr>\n",
       "      <th>68</th>\n",
       "      <td>Veerapandi</td>\n",
       "      <td>111682</td>\n",
       "      <td>49.92</td>\n",
       "      <td>223702</td>\n",
       "      <td>1</td>\n",
       "    </tr>\n",
       "    <tr>\n",
       "      <th>69</th>\n",
       "      <td>Rasipuram</td>\n",
       "      <td>88775</td>\n",
       "      <td>45.09</td>\n",
       "      <td>196904</td>\n",
       "      <td>0</td>\n",
       "    </tr>\n",
       "    <tr>\n",
       "      <th>72</th>\n",
       "      <td>Velur</td>\n",
       "      <td>86034</td>\n",
       "      <td>46.83</td>\n",
       "      <td>183697</td>\n",
       "      <td>1</td>\n",
       "    </tr>\n",
       "    <tr>\n",
       "      <th>74</th>\n",
       "      <td>Kumarapalayam</td>\n",
       "      <td>100800</td>\n",
       "      <td>49.92</td>\n",
       "      <td>201925</td>\n",
       "      <td>1</td>\n",
       "    </tr>\n",
       "    <tr>\n",
       "      <th>79</th>\n",
       "      <td>Bhavani</td>\n",
       "      <td>100915</td>\n",
       "      <td>50.11</td>\n",
       "      <td>201385</td>\n",
       "      <td>1</td>\n",
       "    </tr>\n",
       "    <tr>\n",
       "      <th>81</th>\n",
       "      <td>Gobichettipalayam</td>\n",
       "      <td>108608</td>\n",
       "      <td>50.68</td>\n",
       "      <td>214281</td>\n",
       "      <td>1</td>\n",
       "    </tr>\n",
       "    <tr>\n",
       "      <th>82</th>\n",
       "      <td>Bhavanisagar</td>\n",
       "      <td>99181</td>\n",
       "      <td>49.45</td>\n",
       "      <td>200567</td>\n",
       "      <td>1</td>\n",
       "    </tr>\n",
       "    <tr>\n",
       "      <th>83</th>\n",
       "      <td>Gudalur</td>\n",
       "      <td>64496</td>\n",
       "      <td>46.65</td>\n",
       "      <td>138257</td>\n",
       "      <td>1</td>\n",
       "    </tr>\n",
       "    <tr>\n",
       "      <th>85</th>\n",
       "      <td>Mettuppalayam</td>\n",
       "      <td>105231</td>\n",
       "      <td>46.75</td>\n",
       "      <td>225083</td>\n",
       "      <td>1</td>\n",
       "    </tr>\n",
       "    <tr>\n",
       "      <th>86</th>\n",
       "      <td>Avanashi</td>\n",
       "      <td>117284</td>\n",
       "      <td>55.16</td>\n",
       "      <td>212627</td>\n",
       "      <td>1</td>\n",
       "    </tr>\n",
       "    <tr>\n",
       "      <th>87</th>\n",
       "      <td>Tiruppur (North)</td>\n",
       "      <td>113384</td>\n",
       "      <td>47.62</td>\n",
       "      <td>238092</td>\n",
       "      <td>1</td>\n",
       "    </tr>\n",
       "    <tr>\n",
       "      <th>89</th>\n",
       "      <td>Palladam</td>\n",
       "      <td>126903</td>\n",
       "      <td>48.53</td>\n",
       "      <td>261511</td>\n",
       "      <td>1</td>\n",
       "    </tr>\n",
       "    <tr>\n",
       "      <th>90</th>\n",
       "      <td>Sulur</td>\n",
       "      <td>118968</td>\n",
       "      <td>49.23</td>\n",
       "      <td>241653</td>\n",
       "      <td>1</td>\n",
       "    </tr>\n",
       "    <tr>\n",
       "      <th>93</th>\n",
       "      <td>Thondamuthur</td>\n",
       "      <td>124225</td>\n",
       "      <td>53.89</td>\n",
       "      <td>230531</td>\n",
       "      <td>1</td>\n",
       "    </tr>\n",
       "    <tr>\n",
       "      <th>96</th>\n",
       "      <td>Pollachi</td>\n",
       "      <td>80567</td>\n",
       "      <td>45.44</td>\n",
       "      <td>177308</td>\n",
       "      <td>1</td>\n",
       "    </tr>\n",
       "    <tr>\n",
       "      <th>97</th>\n",
       "      <td>Valparai</td>\n",
       "      <td>71672</td>\n",
       "      <td>49.37</td>\n",
       "      <td>145172</td>\n",
       "      <td>1</td>\n",
       "    </tr>\n",
       "    <tr>\n",
       "      <th>98</th>\n",
       "      <td>Udumalaipettai</td>\n",
       "      <td>96893</td>\n",
       "      <td>49.85</td>\n",
       "      <td>194358</td>\n",
       "      <td>1</td>\n",
       "    </tr>\n",
       "    <tr>\n",
       "      <th>99</th>\n",
       "      <td>Madathukulam</td>\n",
       "      <td>84313</td>\n",
       "      <td>46.35</td>\n",
       "      <td>181902</td>\n",
       "      <td>1</td>\n",
       "    </tr>\n",
       "    <tr>\n",
       "      <th>102</th>\n",
       "      <td>Nilakkottai</td>\n",
       "      <td>91461</td>\n",
       "      <td>49.49</td>\n",
       "      <td>184805</td>\n",
       "      <td>1</td>\n",
       "    </tr>\n",
       "    <tr>\n",
       "      <th>103</th>\n",
       "      <td>Natham</td>\n",
       "      <td>107762</td>\n",
       "      <td>47.84</td>\n",
       "      <td>225244</td>\n",
       "      <td>1</td>\n",
       "    </tr>\n",
       "    <tr>\n",
       "      <th>104</th>\n",
       "      <td>Dindigul</td>\n",
       "      <td>90595</td>\n",
       "      <td>46.43</td>\n",
       "      <td>195118</td>\n",
       "      <td>1</td>\n",
       "    </tr>\n",
       "    <tr>\n",
       "      <th>121</th>\n",
       "      <td>Panruti</td>\n",
       "      <td>89104</td>\n",
       "      <td>45.22</td>\n",
       "      <td>197049</td>\n",
       "      <td>0</td>\n",
       "    </tr>\n",
       "    <tr>\n",
       "      <th>124</th>\n",
       "      <td>Bhuvanagiri</td>\n",
       "      <td>96453</td>\n",
       "      <td>48.92</td>\n",
       "      <td>197165</td>\n",
       "      <td>1</td>\n",
       "    </tr>\n",
       "    <tr>\n",
       "      <th>125</th>\n",
       "      <td>Chidambaram</td>\n",
       "      <td>91961</td>\n",
       "      <td>50.16</td>\n",
       "      <td>183352</td>\n",
       "      <td>1</td>\n",
       "    </tr>\n",
       "    <tr>\n",
       "      <th>130</th>\n",
       "      <td>Vedaranyam</td>\n",
       "      <td>78719</td>\n",
       "      <td>49.80</td>\n",
       "      <td>158060</td>\n",
       "      <td>1</td>\n",
       "    </tr>\n",
       "    <tr>\n",
       "      <th>134</th>\n",
       "      <td>Nannilam</td>\n",
       "      <td>103637</td>\n",
       "      <td>46.70</td>\n",
       "      <td>221944</td>\n",
       "      <td>1</td>\n",
       "    </tr>\n",
       "    <tr>\n",
       "      <th>139</th>\n",
       "      <td>Orathanadu</td>\n",
       "      <td>90063</td>\n",
       "      <td>46.95</td>\n",
       "      <td>191840</td>\n",
       "      <td>1</td>\n",
       "    </tr>\n",
       "    <tr>\n",
       "      <th>143</th>\n",
       "      <td>Viralimalai</td>\n",
       "      <td>102179</td>\n",
       "      <td>52.83</td>\n",
       "      <td>193423</td>\n",
       "      <td>1</td>\n",
       "    </tr>\n",
       "    <tr>\n",
       "      <th>151</th>\n",
       "      <td>Melur</td>\n",
       "      <td>83344</td>\n",
       "      <td>45.60</td>\n",
       "      <td>182782</td>\n",
       "      <td>1</td>\n",
       "    </tr>\n",
       "    <tr>\n",
       "      <th>158</th>\n",
       "      <td>Thirumangalam</td>\n",
       "      <td>100338</td>\n",
       "      <td>45.51</td>\n",
       "      <td>220495</td>\n",
       "      <td>1</td>\n",
       "    </tr>\n",
       "    <tr>\n",
       "      <th>162</th>\n",
       "      <td>Bodinayakanur</td>\n",
       "      <td>100050</td>\n",
       "      <td>46.58</td>\n",
       "      <td>214795</td>\n",
       "      <td>1</td>\n",
       "    </tr>\n",
       "    <tr>\n",
       "      <th>184</th>\n",
       "      <td>Ambasamudram</td>\n",
       "      <td>85211</td>\n",
       "      <td>47.96</td>\n",
       "      <td>177681</td>\n",
       "      <td>1</td>\n",
       "    </tr>\n",
       "    <tr>\n",
       "      <th>188</th>\n",
       "      <td>Kanniyakumari</td>\n",
       "      <td>109745</td>\n",
       "      <td>48.80</td>\n",
       "      <td>224874</td>\n",
       "      <td>1</td>\n",
       "    </tr>\n",
       "  </tbody>\n",
       "</table>\n",
       "</div>"
      ],
      "text/plain": [
       "           constituency  Total votes      %  All party votes  result\n",
       "28         Madurantakam        86646  46.62           185842       1\n",
       "30            Arakkonam        85399  49.82           171412       1\n",
       "31              Katpadi        84394  45.31           186246       0\n",
       "35   Kilvaithinankuppam        84579  48.57           174124       1\n",
       "37          Vaniyambadi        88018  46.33           189997       1\n",
       "39             Jolarpet        88399  45.02           196358       0\n",
       "40           Uthangarai        99675  52.96           188223       1\n",
       "42          Krishnagiri        96050  45.38           211648       1\n",
       "43         Veppanahalli        94104  45.87           205141       1\n",
       "45             Palacode       110070  53.28           206595       1\n",
       "46      Pappireddipatti       114507  51.81           220994       1\n",
       "47                Harur        99061  49.89           198565       1\n",
       "50                Polur        97732  48.38           202012       1\n",
       "51                Arani       102961  46.50           221422       1\n",
       "53           Tindivanam        87152  47.74           182538       1\n",
       "54                Vanur        92219  50.61           182208       1\n",
       "59         Kallakurichi       110643  48.99           225858       1\n",
       "60           Gangavalli        89568  48.02           186503       1\n",
       "61                Attur        95308  47.72           199743       1\n",
       "62              Yercaud       121561  50.88           238924       1\n",
       "63               Omalur       142488  57.22           249027       1\n",
       "64             Edappadi       163154  65.97           247301       1\n",
       "65              Sankari       115472  49.72           232247       1\n",
       "67        Salem (South)        97506  48.76           199982       1\n",
       "68           Veerapandi       111682  49.92           223702       1\n",
       "69            Rasipuram        88775  45.09           196904       0\n",
       "72                Velur        86034  46.83           183697       1\n",
       "74        Kumarapalayam       100800  49.92           201925       1\n",
       "79              Bhavani       100915  50.11           201385       1\n",
       "81    Gobichettipalayam       108608  50.68           214281       1\n",
       "82         Bhavanisagar        99181  49.45           200567       1\n",
       "83              Gudalur        64496  46.65           138257       1\n",
       "85        Mettuppalayam       105231  46.75           225083       1\n",
       "86             Avanashi       117284  55.16           212627       1\n",
       "87     Tiruppur (North)       113384  47.62           238092       1\n",
       "89             Palladam       126903  48.53           261511       1\n",
       "90                Sulur       118968  49.23           241653       1\n",
       "93         Thondamuthur       124225  53.89           230531       1\n",
       "96             Pollachi        80567  45.44           177308       1\n",
       "97             Valparai        71672  49.37           145172       1\n",
       "98       Udumalaipettai        96893  49.85           194358       1\n",
       "99         Madathukulam        84313  46.35           181902       1\n",
       "102         Nilakkottai        91461  49.49           184805       1\n",
       "103              Natham       107762  47.84           225244       1\n",
       "104            Dindigul        90595  46.43           195118       1\n",
       "121             Panruti        89104  45.22           197049       0\n",
       "124         Bhuvanagiri        96453  48.92           197165       1\n",
       "125         Chidambaram        91961  50.16           183352       1\n",
       "130          Vedaranyam        78719  49.80           158060       1\n",
       "134            Nannilam       103637  46.70           221944       1\n",
       "139          Orathanadu        90063  46.95           191840       1\n",
       "143         Viralimalai       102179  52.83           193423       1\n",
       "151               Melur        83344  45.60           182782       1\n",
       "158       Thirumangalam       100338  45.51           220495       1\n",
       "162       Bodinayakanur       100050  46.58           214795       1\n",
       "184        Ambasamudram        85211  47.96           177681       1\n",
       "188       Kanniyakumari       109745  48.80           224874       1"
      ]
     },
     "execution_count": 341,
     "metadata": {},
     "output_type": "execute_result"
    }
   ],
   "source": [
    "df_admk[df_admk['%']>45]"
   ]
  },
  {
   "cell_type": "code",
   "execution_count": 342,
   "metadata": {},
   "outputs": [
    {
     "data": {
      "text/html": [
       "<div>\n",
       "<style scoped>\n",
       "    .dataframe tbody tr th:only-of-type {\n",
       "        vertical-align: middle;\n",
       "    }\n",
       "\n",
       "    .dataframe tbody tr th {\n",
       "        vertical-align: top;\n",
       "    }\n",
       "\n",
       "    .dataframe thead th {\n",
       "        text-align: right;\n",
       "    }\n",
       "</style>\n",
       "<table border=\"1\" class=\"dataframe\">\n",
       "  <thead>\n",
       "    <tr style=\"text-align: right;\">\n",
       "      <th></th>\n",
       "      <th>constituency</th>\n",
       "      <th>Total votes</th>\n",
       "      <th>%</th>\n",
       "      <th>All party votes</th>\n",
       "      <th>result</th>\n",
       "    </tr>\n",
       "  </thead>\n",
       "  <tbody>\n",
       "    <tr>\n",
       "      <th>28</th>\n",
       "      <td>Madurantakam</td>\n",
       "      <td>86646</td>\n",
       "      <td>46.62</td>\n",
       "      <td>185842</td>\n",
       "      <td>1</td>\n",
       "    </tr>\n",
       "    <tr>\n",
       "      <th>30</th>\n",
       "      <td>Arakkonam</td>\n",
       "      <td>85399</td>\n",
       "      <td>49.82</td>\n",
       "      <td>171412</td>\n",
       "      <td>1</td>\n",
       "    </tr>\n",
       "    <tr>\n",
       "      <th>35</th>\n",
       "      <td>Kilvaithinankuppam</td>\n",
       "      <td>84579</td>\n",
       "      <td>48.57</td>\n",
       "      <td>174124</td>\n",
       "      <td>1</td>\n",
       "    </tr>\n",
       "    <tr>\n",
       "      <th>37</th>\n",
       "      <td>Vaniyambadi</td>\n",
       "      <td>88018</td>\n",
       "      <td>46.33</td>\n",
       "      <td>189997</td>\n",
       "      <td>1</td>\n",
       "    </tr>\n",
       "    <tr>\n",
       "      <th>40</th>\n",
       "      <td>Uthangarai</td>\n",
       "      <td>99675</td>\n",
       "      <td>52.96</td>\n",
       "      <td>188223</td>\n",
       "      <td>1</td>\n",
       "    </tr>\n",
       "    <tr>\n",
       "      <th>...</th>\n",
       "      <td>...</td>\n",
       "      <td>...</td>\n",
       "      <td>...</td>\n",
       "      <td>...</td>\n",
       "      <td>...</td>\n",
       "    </tr>\n",
       "    <tr>\n",
       "      <th>178</th>\n",
       "      <td>Kovilpatti</td>\n",
       "      <td>68556</td>\n",
       "      <td>37.89</td>\n",
       "      <td>180928</td>\n",
       "      <td>1</td>\n",
       "    </tr>\n",
       "    <tr>\n",
       "      <th>181</th>\n",
       "      <td>Kadayanallur</td>\n",
       "      <td>88474</td>\n",
       "      <td>43.08</td>\n",
       "      <td>205374</td>\n",
       "      <td>1</td>\n",
       "    </tr>\n",
       "    <tr>\n",
       "      <th>183</th>\n",
       "      <td>Alangulam</td>\n",
       "      <td>74153</td>\n",
       "      <td>36.44</td>\n",
       "      <td>203478</td>\n",
       "      <td>1</td>\n",
       "    </tr>\n",
       "    <tr>\n",
       "      <th>184</th>\n",
       "      <td>Ambasamudram</td>\n",
       "      <td>85211</td>\n",
       "      <td>47.96</td>\n",
       "      <td>177681</td>\n",
       "      <td>1</td>\n",
       "    </tr>\n",
       "    <tr>\n",
       "      <th>188</th>\n",
       "      <td>Kanniyakumari</td>\n",
       "      <td>109745</td>\n",
       "      <td>48.80</td>\n",
       "      <td>224874</td>\n",
       "      <td>1</td>\n",
       "    </tr>\n",
       "  </tbody>\n",
       "</table>\n",
       "<p>66 rows × 5 columns</p>\n",
       "</div>"
      ],
      "text/plain": [
       "           constituency  Total votes      %  All party votes  result\n",
       "28         Madurantakam        86646  46.62           185842       1\n",
       "30            Arakkonam        85399  49.82           171412       1\n",
       "35   Kilvaithinankuppam        84579  48.57           174124       1\n",
       "37          Vaniyambadi        88018  46.33           189997       1\n",
       "40           Uthangarai        99675  52.96           188223       1\n",
       "..                  ...          ...    ...              ...     ...\n",
       "178          Kovilpatti        68556  37.89           180928       1\n",
       "181        Kadayanallur        88474  43.08           205374       1\n",
       "183           Alangulam        74153  36.44           203478       1\n",
       "184        Ambasamudram        85211  47.96           177681       1\n",
       "188       Kanniyakumari       109745  48.80           224874       1\n",
       "\n",
       "[66 rows x 5 columns]"
      ]
     },
     "execution_count": 342,
     "metadata": {},
     "output_type": "execute_result"
    }
   ],
   "source": [
    "df_admk[df_admk.result == 1]"
   ]
  },
  {
   "cell_type": "markdown",
   "metadata": {},
   "source": [
    "# DMK"
   ]
  },
  {
   "cell_type": "code",
   "execution_count": 343,
   "metadata": {},
   "outputs": [
    {
     "name": "stderr",
     "output_type": "stream",
     "text": [
      "100%|████████████████████████████████████████████████████████████████████████████████| 234/234 [00:30<00:00,  7.77it/s]\n"
     ]
    }
   ],
   "source": [
    "df_dmk = get_data('Dravida Munnetra Kazhagam')"
   ]
  },
  {
   "cell_type": "code",
   "execution_count": 344,
   "metadata": {},
   "outputs": [
    {
     "data": {
      "text/html": [
       "<div>\n",
       "<style scoped>\n",
       "    .dataframe tbody tr th:only-of-type {\n",
       "        vertical-align: middle;\n",
       "    }\n",
       "\n",
       "    .dataframe tbody tr th {\n",
       "        vertical-align: top;\n",
       "    }\n",
       "\n",
       "    .dataframe thead th {\n",
       "        text-align: right;\n",
       "    }\n",
       "</style>\n",
       "<table border=\"1\" class=\"dataframe\">\n",
       "  <thead>\n",
       "    <tr style=\"text-align: right;\">\n",
       "      <th></th>\n",
       "      <th>Total votes</th>\n",
       "      <th>%</th>\n",
       "      <th>All party votes</th>\n",
       "      <th>result</th>\n",
       "    </tr>\n",
       "  </thead>\n",
       "  <tbody>\n",
       "    <tr>\n",
       "      <th>count</th>\n",
       "      <td>188.000000</td>\n",
       "      <td>188.000000</td>\n",
       "      <td>188.000000</td>\n",
       "      <td>188.000000</td>\n",
       "    </tr>\n",
       "    <tr>\n",
       "      <th>mean</th>\n",
       "      <td>92712.111702</td>\n",
       "      <td>46.673777</td>\n",
       "      <td>199591.553191</td>\n",
       "      <td>0.707447</td>\n",
       "    </tr>\n",
       "    <tr>\n",
       "      <th>std</th>\n",
       "      <td>19300.722361</td>\n",
       "      <td>6.783023</td>\n",
       "      <td>34461.642019</td>\n",
       "      <td>0.456150</td>\n",
       "    </tr>\n",
       "    <tr>\n",
       "      <th>min</th>\n",
       "      <td>56035.000000</td>\n",
       "      <td>28.040000</td>\n",
       "      <td>101650.000000</td>\n",
       "      <td>0.000000</td>\n",
       "    </tr>\n",
       "    <tr>\n",
       "      <th>25%</th>\n",
       "      <td>78803.000000</td>\n",
       "      <td>42.810000</td>\n",
       "      <td>179456.500000</td>\n",
       "      <td>0.000000</td>\n",
       "    </tr>\n",
       "    <tr>\n",
       "      <th>50%</th>\n",
       "      <td>90883.500000</td>\n",
       "      <td>46.425000</td>\n",
       "      <td>198613.500000</td>\n",
       "      <td>1.000000</td>\n",
       "    </tr>\n",
       "    <tr>\n",
       "      <th>75%</th>\n",
       "      <td>102727.750000</td>\n",
       "      <td>50.650000</td>\n",
       "      <td>214543.750000</td>\n",
       "      <td>1.000000</td>\n",
       "    </tr>\n",
       "    <tr>\n",
       "      <th>max</th>\n",
       "      <td>171558.000000</td>\n",
       "      <td>72.110000</td>\n",
       "      <td>388355.000000</td>\n",
       "      <td>1.000000</td>\n",
       "    </tr>\n",
       "  </tbody>\n",
       "</table>\n",
       "</div>"
      ],
      "text/plain": [
       "         Total votes           %  All party votes      result\n",
       "count     188.000000  188.000000       188.000000  188.000000\n",
       "mean    92712.111702   46.673777    199591.553191    0.707447\n",
       "std     19300.722361    6.783023     34461.642019    0.456150\n",
       "min     56035.000000   28.040000    101650.000000    0.000000\n",
       "25%     78803.000000   42.810000    179456.500000    0.000000\n",
       "50%     90883.500000   46.425000    198613.500000    1.000000\n",
       "75%    102727.750000   50.650000    214543.750000    1.000000\n",
       "max    171558.000000   72.110000    388355.000000    1.000000"
      ]
     },
     "execution_count": 344,
     "metadata": {},
     "output_type": "execute_result"
    }
   ],
   "source": [
    "df_dmk.describe()"
   ]
  },
  {
   "cell_type": "code",
   "execution_count": 345,
   "metadata": {},
   "outputs": [
    {
     "data": {
      "text/plain": [
       "133"
      ]
     },
     "execution_count": 345,
     "metadata": {},
     "output_type": "execute_result"
    }
   ],
   "source": [
    "df_dmk.result.sum()"
   ]
  },
  {
   "cell_type": "code",
   "execution_count": 346,
   "metadata": {},
   "outputs": [
    {
     "name": "stdout",
     "output_type": "stream",
     "text": [
      "Overall vote percentage = 46.451 %\n"
     ]
    }
   ],
   "source": [
    "vote_per = 100*df_dmk[\"Total votes\"].sum()/df_dmk['All party votes'].sum()\n",
    "print('Overall vote percentage = {0:.3f} %'.format(vote_per))"
   ]
  },
  {
   "cell_type": "code",
   "execution_count": 347,
   "metadata": {},
   "outputs": [
    {
     "data": {
      "text/plain": [
       "<AxesSubplot:title={'center':'DMK'}, xlabel='constituency'>"
      ]
     },
     "execution_count": 347,
     "metadata": {},
     "output_type": "execute_result"
    },
    {
     "data": {
      "image/png": "[encoded data removed]",
      "text/plain": [
       "<Figure size 1080x720 with 1 Axes>"
      ]
     },
     "metadata": {
      "needs_background": "light"
     },
     "output_type": "display_data"
    }
   ],
   "source": [
    "df_dmk.plot(x=\"constituency\", y=\"%\", kind=\"bar\",color=df_dmk['result'].replace({1: \"green\", 0: \"red\"}), title='DMK', figsize=(15, 10))"
   ]
  },
  {
   "cell_type": "code",
   "execution_count": 348,
   "metadata": {},
   "outputs": [
    {
     "data": {
      "text/html": [
       "<div>\n",
       "<style scoped>\n",
       "    .dataframe tbody tr th:only-of-type {\n",
       "        vertical-align: middle;\n",
       "    }\n",
       "\n",
       "    .dataframe tbody tr th {\n",
       "        vertical-align: top;\n",
       "    }\n",
       "\n",
       "    .dataframe thead th {\n",
       "        text-align: right;\n",
       "    }\n",
       "</style>\n",
       "<table border=\"1\" class=\"dataframe\">\n",
       "  <thead>\n",
       "    <tr style=\"text-align: right;\">\n",
       "      <th></th>\n",
       "      <th>constituency</th>\n",
       "      <th>Total votes</th>\n",
       "      <th>%</th>\n",
       "      <th>All party votes</th>\n",
       "      <th>result</th>\n",
       "    </tr>\n",
       "  </thead>\n",
       "  <tbody>\n",
       "    <tr>\n",
       "      <th>0</th>\n",
       "      <td>Gummidipoondi</td>\n",
       "      <td>126452</td>\n",
       "      <td>56.94</td>\n",
       "      <td>222069</td>\n",
       "      <td>1</td>\n",
       "    </tr>\n",
       "    <tr>\n",
       "      <th>1</th>\n",
       "      <td>Tiruttani</td>\n",
       "      <td>120314</td>\n",
       "      <td>51.72</td>\n",
       "      <td>232624</td>\n",
       "      <td>1</td>\n",
       "    </tr>\n",
       "    <tr>\n",
       "      <th>2</th>\n",
       "      <td>Thiruvallur</td>\n",
       "      <td>107709</td>\n",
       "      <td>50.27</td>\n",
       "      <td>214243</td>\n",
       "      <td>1</td>\n",
       "    </tr>\n",
       "    <tr>\n",
       "      <th>3</th>\n",
       "      <td>Poonamallee</td>\n",
       "      <td>149578</td>\n",
       "      <td>56.72</td>\n",
       "      <td>263736</td>\n",
       "      <td>1</td>\n",
       "    </tr>\n",
       "    <tr>\n",
       "      <th>4</th>\n",
       "      <td>Avadi</td>\n",
       "      <td>150287</td>\n",
       "      <td>49.94</td>\n",
       "      <td>300927</td>\n",
       "      <td>1</td>\n",
       "    </tr>\n",
       "    <tr>\n",
       "      <th>...</th>\n",
       "      <td>...</td>\n",
       "      <td>...</td>\n",
       "      <td>...</td>\n",
       "      <td>...</td>\n",
       "      <td>...</td>\n",
       "    </tr>\n",
       "    <tr>\n",
       "      <th>175</th>\n",
       "      <td>Thoothukkudi</td>\n",
       "      <td>92314</td>\n",
       "      <td>49.00</td>\n",
       "      <td>188407</td>\n",
       "      <td>1</td>\n",
       "    </tr>\n",
       "    <tr>\n",
       "      <th>176</th>\n",
       "      <td>Tiruchendur</td>\n",
       "      <td>88274</td>\n",
       "      <td>50.58</td>\n",
       "      <td>174536</td>\n",
       "      <td>1</td>\n",
       "    </tr>\n",
       "    <tr>\n",
       "      <th>183</th>\n",
       "      <td>Palayamkottai</td>\n",
       "      <td>89117</td>\n",
       "      <td>55.32</td>\n",
       "      <td>161091</td>\n",
       "      <td>1</td>\n",
       "    </tr>\n",
       "    <tr>\n",
       "      <th>184</th>\n",
       "      <td>Radhapuram</td>\n",
       "      <td>82331</td>\n",
       "      <td>43.95</td>\n",
       "      <td>187310</td>\n",
       "      <td>1</td>\n",
       "    </tr>\n",
       "    <tr>\n",
       "      <th>187</th>\n",
       "      <td>Padmanabhapuram</td>\n",
       "      <td>87744</td>\n",
       "      <td>51.57</td>\n",
       "      <td>170156</td>\n",
       "      <td>1</td>\n",
       "    </tr>\n",
       "  </tbody>\n",
       "</table>\n",
       "<p>147 rows × 5 columns</p>\n",
       "</div>"
      ],
      "text/plain": [
       "        constituency  Total votes      %  All party votes  result\n",
       "0      Gummidipoondi       126452  56.94           222069       1\n",
       "1          Tiruttani       120314  51.72           232624       1\n",
       "2        Thiruvallur       107709  50.27           214243       1\n",
       "3        Poonamallee       149578  56.72           263736       1\n",
       "4              Avadi       150287  49.94           300927       1\n",
       "..               ...          ...    ...              ...     ...\n",
       "175     Thoothukkudi        92314  49.00           188407       1\n",
       "176      Tiruchendur        88274  50.58           174536       1\n",
       "183    Palayamkottai        89117  55.32           161091       1\n",
       "184       Radhapuram        82331  43.95           187310       1\n",
       "187  Padmanabhapuram        87744  51.57           170156       1\n",
       "\n",
       "[147 rows x 5 columns]"
      ]
     },
     "execution_count": 348,
     "metadata": {},
     "output_type": "execute_result"
    }
   ],
   "source": [
    "df_dmk[df_dmk['%']>42]"
   ]
  },
  {
   "cell_type": "code",
   "execution_count": 349,
   "metadata": {},
   "outputs": [
    {
     "data": {
      "text/html": [
       "<div>\n",
       "<style scoped>\n",
       "    .dataframe tbody tr th:only-of-type {\n",
       "        vertical-align: middle;\n",
       "    }\n",
       "\n",
       "    .dataframe tbody tr th {\n",
       "        vertical-align: top;\n",
       "    }\n",
       "\n",
       "    .dataframe thead th {\n",
       "        text-align: right;\n",
       "    }\n",
       "</style>\n",
       "<table border=\"1\" class=\"dataframe\">\n",
       "  <thead>\n",
       "    <tr style=\"text-align: right;\">\n",
       "      <th></th>\n",
       "      <th>constituency</th>\n",
       "      <th>Total votes</th>\n",
       "      <th>%</th>\n",
       "      <th>All party votes</th>\n",
       "      <th>result</th>\n",
       "    </tr>\n",
       "  </thead>\n",
       "  <tbody>\n",
       "    <tr>\n",
       "      <th>0</th>\n",
       "      <td>Gummidipoondi</td>\n",
       "      <td>126452</td>\n",
       "      <td>56.94</td>\n",
       "      <td>222069</td>\n",
       "      <td>1</td>\n",
       "    </tr>\n",
       "    <tr>\n",
       "      <th>1</th>\n",
       "      <td>Tiruttani</td>\n",
       "      <td>120314</td>\n",
       "      <td>51.72</td>\n",
       "      <td>232624</td>\n",
       "      <td>1</td>\n",
       "    </tr>\n",
       "    <tr>\n",
       "      <th>2</th>\n",
       "      <td>Thiruvallur</td>\n",
       "      <td>107709</td>\n",
       "      <td>50.27</td>\n",
       "      <td>214243</td>\n",
       "      <td>1</td>\n",
       "    </tr>\n",
       "    <tr>\n",
       "      <th>3</th>\n",
       "      <td>Poonamallee</td>\n",
       "      <td>149578</td>\n",
       "      <td>56.72</td>\n",
       "      <td>263736</td>\n",
       "      <td>1</td>\n",
       "    </tr>\n",
       "    <tr>\n",
       "      <th>4</th>\n",
       "      <td>Avadi</td>\n",
       "      <td>150287</td>\n",
       "      <td>49.94</td>\n",
       "      <td>300927</td>\n",
       "      <td>1</td>\n",
       "    </tr>\n",
       "    <tr>\n",
       "      <th>...</th>\n",
       "      <td>...</td>\n",
       "      <td>...</td>\n",
       "      <td>...</td>\n",
       "      <td>...</td>\n",
       "      <td>...</td>\n",
       "    </tr>\n",
       "    <tr>\n",
       "      <th>178</th>\n",
       "      <td>Sankarankovil</td>\n",
       "      <td>71347</td>\n",
       "      <td>38.92</td>\n",
       "      <td>183338</td>\n",
       "      <td>1</td>\n",
       "    </tr>\n",
       "    <tr>\n",
       "      <th>179</th>\n",
       "      <td>Vasudevanallur</td>\n",
       "      <td>68730</td>\n",
       "      <td>39.08</td>\n",
       "      <td>175881</td>\n",
       "      <td>1</td>\n",
       "    </tr>\n",
       "    <tr>\n",
       "      <th>183</th>\n",
       "      <td>Palayamkottai</td>\n",
       "      <td>89117</td>\n",
       "      <td>55.32</td>\n",
       "      <td>161091</td>\n",
       "      <td>1</td>\n",
       "    </tr>\n",
       "    <tr>\n",
       "      <th>184</th>\n",
       "      <td>Radhapuram</td>\n",
       "      <td>82331</td>\n",
       "      <td>43.95</td>\n",
       "      <td>187310</td>\n",
       "      <td>1</td>\n",
       "    </tr>\n",
       "    <tr>\n",
       "      <th>187</th>\n",
       "      <td>Padmanabhapuram</td>\n",
       "      <td>87744</td>\n",
       "      <td>51.57</td>\n",
       "      <td>170156</td>\n",
       "      <td>1</td>\n",
       "    </tr>\n",
       "  </tbody>\n",
       "</table>\n",
       "<p>133 rows × 5 columns</p>\n",
       "</div>"
      ],
      "text/plain": [
       "        constituency  Total votes      %  All party votes  result\n",
       "0      Gummidipoondi       126452  56.94           222069       1\n",
       "1          Tiruttani       120314  51.72           232624       1\n",
       "2        Thiruvallur       107709  50.27           214243       1\n",
       "3        Poonamallee       149578  56.72           263736       1\n",
       "4              Avadi       150287  49.94           300927       1\n",
       "..               ...          ...    ...              ...     ...\n",
       "178    Sankarankovil        71347  38.92           183338       1\n",
       "179   Vasudevanallur        68730  39.08           175881       1\n",
       "183    Palayamkottai        89117  55.32           161091       1\n",
       "184       Radhapuram        82331  43.95           187310       1\n",
       "187  Padmanabhapuram        87744  51.57           170156       1\n",
       "\n",
       "[133 rows x 5 columns]"
      ]
     },
     "execution_count": 349,
     "metadata": {},
     "output_type": "execute_result"
    }
   ],
   "source": [
    "df_dmk[df_dmk.result == 1]"
   ]
  },
  {
   "cell_type": "markdown",
   "metadata": {},
   "source": [
    "# NTK"
   ]
  },
  {
   "cell_type": "code",
   "execution_count": 350,
   "metadata": {},
   "outputs": [
    {
     "name": "stderr",
     "output_type": "stream",
     "text": [
      "100%|████████████████████████████████████████████████████████████████████████████████| 234/234 [00:38<00:00,  6.04it/s]\n"
     ]
    }
   ],
   "source": [
    "df_ntk = get_data('Naam Tamilar Katchi')"
   ]
  },
  {
   "cell_type": "code",
   "execution_count": 351,
   "metadata": {},
   "outputs": [
    {
     "data": {
      "text/html": [
       "<div>\n",
       "<style scoped>\n",
       "    .dataframe tbody tr th:only-of-type {\n",
       "        vertical-align: middle;\n",
       "    }\n",
       "\n",
       "    .dataframe tbody tr th {\n",
       "        vertical-align: top;\n",
       "    }\n",
       "\n",
       "    .dataframe thead th {\n",
       "        text-align: right;\n",
       "    }\n",
       "</style>\n",
       "<table border=\"1\" class=\"dataframe\">\n",
       "  <thead>\n",
       "    <tr style=\"text-align: right;\">\n",
       "      <th></th>\n",
       "      <th>Total votes</th>\n",
       "      <th>%</th>\n",
       "      <th>All party votes</th>\n",
       "      <th>result</th>\n",
       "    </tr>\n",
       "  </thead>\n",
       "  <tbody>\n",
       "    <tr>\n",
       "      <th>count</th>\n",
       "      <td>234.000000</td>\n",
       "      <td>234.000000</td>\n",
       "      <td>234.000000</td>\n",
       "      <td>234.0</td>\n",
       "    </tr>\n",
       "    <tr>\n",
       "      <th>mean</th>\n",
       "      <td>12999.764957</td>\n",
       "      <td>6.567735</td>\n",
       "      <td>197591.846154</td>\n",
       "      <td>0.0</td>\n",
       "    </tr>\n",
       "    <tr>\n",
       "      <th>std</th>\n",
       "      <td>5619.360662</td>\n",
       "      <td>2.458838</td>\n",
       "      <td>33494.288582</td>\n",
       "      <td>0.0</td>\n",
       "    </tr>\n",
       "    <tr>\n",
       "      <th>min</th>\n",
       "      <td>3357.000000</td>\n",
       "      <td>1.950000</td>\n",
       "      <td>101650.000000</td>\n",
       "      <td>0.0</td>\n",
       "    </tr>\n",
       "    <tr>\n",
       "      <th>25%</th>\n",
       "      <td>9585.500000</td>\n",
       "      <td>4.992500</td>\n",
       "      <td>177720.750000</td>\n",
       "      <td>0.0</td>\n",
       "    </tr>\n",
       "    <tr>\n",
       "      <th>50%</th>\n",
       "      <td>11606.500000</td>\n",
       "      <td>6.055000</td>\n",
       "      <td>197031.000000</td>\n",
       "      <td>0.0</td>\n",
       "    </tr>\n",
       "    <tr>\n",
       "      <th>75%</th>\n",
       "      <td>14986.000000</td>\n",
       "      <td>7.767500</td>\n",
       "      <td>213843.500000</td>\n",
       "      <td>0.0</td>\n",
       "    </tr>\n",
       "    <tr>\n",
       "      <th>max</th>\n",
       "      <td>48597.000000</td>\n",
       "      <td>24.300000</td>\n",
       "      <td>388355.000000</td>\n",
       "      <td>0.0</td>\n",
       "    </tr>\n",
       "  </tbody>\n",
       "</table>\n",
       "</div>"
      ],
      "text/plain": [
       "        Total votes           %  All party votes  result\n",
       "count    234.000000  234.000000       234.000000   234.0\n",
       "mean   12999.764957    6.567735    197591.846154     0.0\n",
       "std     5619.360662    2.458838     33494.288582     0.0\n",
       "min     3357.000000    1.950000    101650.000000     0.0\n",
       "25%     9585.500000    4.992500    177720.750000     0.0\n",
       "50%    11606.500000    6.055000    197031.000000     0.0\n",
       "75%    14986.000000    7.767500    213843.500000     0.0\n",
       "max    48597.000000   24.300000    388355.000000     0.0"
      ]
     },
     "execution_count": 351,
     "metadata": {},
     "output_type": "execute_result"
    }
   ],
   "source": [
    "df_ntk.describe()"
   ]
  },
  {
   "cell_type": "code",
   "execution_count": 352,
   "metadata": {},
   "outputs": [
    {
     "data": {
      "text/plain": [
       "0"
      ]
     },
     "execution_count": 352,
     "metadata": {},
     "output_type": "execute_result"
    }
   ],
   "source": [
    "df_ntk.result.sum()"
   ]
  },
  {
   "cell_type": "code",
   "execution_count": 353,
   "metadata": {},
   "outputs": [
    {
     "data": {
      "text/plain": [
       "3041945"
      ]
     },
     "execution_count": 353,
     "metadata": {},
     "output_type": "execute_result"
    }
   ],
   "source": [
    "df_ntk[\"Total votes\"].sum()"
   ]
  },
  {
   "cell_type": "code",
   "execution_count": 354,
   "metadata": {},
   "outputs": [
    {
     "data": {
      "text/plain": [
       "46236492"
      ]
     },
     "execution_count": 354,
     "metadata": {},
     "output_type": "execute_result"
    }
   ],
   "source": [
    "df_ntk['All party votes'].sum()"
   ]
  },
  {
   "cell_type": "code",
   "execution_count": 355,
   "metadata": {},
   "outputs": [
    {
     "name": "stdout",
     "output_type": "stream",
     "text": [
      "Overall vote percentage = 6.579 %\n"
     ]
    }
   ],
   "source": [
    "vote_per = 100*df_ntk[\"Total votes\"].sum()/df_ntk['All party votes'].sum()\n",
    "print('Overall vote percentage = {0:.3f} %'.format(vote_per))"
   ]
  },
  {
   "cell_type": "code",
   "execution_count": 356,
   "metadata": {},
   "outputs": [
    {
     "data": {
      "text/plain": [
       "<AxesSubplot:title={'center':'NTK'}, xlabel='constituency'>"
      ]
     },
     "execution_count": 356,
     "metadata": {},
     "output_type": "execute_result"
    },
    {
     "data": {
      "image/png": "[encoded data removed]",
      "text/plain": [
       "<Figure size 1080x720 with 1 Axes>"
      ]
     },
     "metadata": {
      "needs_background": "light"
     },
     "output_type": "display_data"
    }
   ],
   "source": [
    "df_ntk.plot(x=\"constituency\", y=\"%\", kind=\"bar\",color=df_ntk['result'].replace({1: \"green\", 0: \"red\"}), title='NTK', figsize=(15, 10))"
   ]
  },
  {
   "cell_type": "code",
   "execution_count": 357,
   "metadata": {},
   "outputs": [
    {
     "data": {
      "text/html": [
       "<div>\n",
       "<style scoped>\n",
       "    .dataframe tbody tr th:only-of-type {\n",
       "        vertical-align: middle;\n",
       "    }\n",
       "\n",
       "    .dataframe tbody tr th {\n",
       "        vertical-align: top;\n",
       "    }\n",
       "\n",
       "    .dataframe thead th {\n",
       "        text-align: right;\n",
       "    }\n",
       "</style>\n",
       "<table border=\"1\" class=\"dataframe\">\n",
       "  <thead>\n",
       "    <tr style=\"text-align: right;\">\n",
       "      <th></th>\n",
       "      <th>constituency</th>\n",
       "      <th>Total votes</th>\n",
       "      <th>%</th>\n",
       "      <th>All party votes</th>\n",
       "      <th>result</th>\n",
       "    </tr>\n",
       "  </thead>\n",
       "  <tbody>\n",
       "    <tr>\n",
       "      <th>4</th>\n",
       "      <td>Poonamallee</td>\n",
       "      <td>29871</td>\n",
       "      <td>11.33</td>\n",
       "      <td>263736</td>\n",
       "      <td>0</td>\n",
       "    </tr>\n",
       "    <tr>\n",
       "      <th>9</th>\n",
       "      <td>Thiruvottiyur</td>\n",
       "      <td>48597</td>\n",
       "      <td>24.30</td>\n",
       "      <td>199996</td>\n",
       "      <td>0</td>\n",
       "    </tr>\n",
       "    <tr>\n",
       "      <th>10</th>\n",
       "      <td>Dr.Radhakrishnan Nagar</td>\n",
       "      <td>20437</td>\n",
       "      <td>10.93</td>\n",
       "      <td>187027</td>\n",
       "      <td>0</td>\n",
       "    </tr>\n",
       "    <tr>\n",
       "      <th>26</th>\n",
       "      <td>Shozhinganallur</td>\n",
       "      <td>38872</td>\n",
       "      <td>10.01</td>\n",
       "      <td>388355</td>\n",
       "      <td>0</td>\n",
       "    </tr>\n",
       "    <tr>\n",
       "      <th>163</th>\n",
       "      <td>Kilvelur</td>\n",
       "      <td>15173</td>\n",
       "      <td>10.61</td>\n",
       "      <td>142995</td>\n",
       "      <td>0</td>\n",
       "    </tr>\n",
       "    <tr>\n",
       "      <th>167</th>\n",
       "      <td>Thiruvarur</td>\n",
       "      <td>26300</td>\n",
       "      <td>12.63</td>\n",
       "      <td>208290</td>\n",
       "      <td>0</td>\n",
       "    </tr>\n",
       "    <tr>\n",
       "      <th>182</th>\n",
       "      <td>Aranthangi</td>\n",
       "      <td>18460</td>\n",
       "      <td>10.98</td>\n",
       "      <td>168048</td>\n",
       "      <td>0</td>\n",
       "    </tr>\n",
       "    <tr>\n",
       "      <th>183</th>\n",
       "      <td>Karaikudi</td>\n",
       "      <td>23872</td>\n",
       "      <td>11.24</td>\n",
       "      <td>212456</td>\n",
       "      <td>0</td>\n",
       "    </tr>\n",
       "    <tr>\n",
       "      <th>185</th>\n",
       "      <td>Sivaganga</td>\n",
       "      <td>22500</td>\n",
       "      <td>11.14</td>\n",
       "      <td>202044</td>\n",
       "      <td>0</td>\n",
       "    </tr>\n",
       "    <tr>\n",
       "      <th>186</th>\n",
       "      <td>Manamadurai</td>\n",
       "      <td>23228</td>\n",
       "      <td>11.44</td>\n",
       "      <td>203061</td>\n",
       "      <td>0</td>\n",
       "    </tr>\n",
       "    <tr>\n",
       "      <th>202</th>\n",
       "      <td>Srivilliputhur</td>\n",
       "      <td>20348</td>\n",
       "      <td>11.00</td>\n",
       "      <td>185039</td>\n",
       "      <td>0</td>\n",
       "    </tr>\n",
       "    <tr>\n",
       "      <th>204</th>\n",
       "      <td>Sivakasi</td>\n",
       "      <td>20865</td>\n",
       "      <td>11.28</td>\n",
       "      <td>185047</td>\n",
       "      <td>0</td>\n",
       "    </tr>\n",
       "    <tr>\n",
       "      <th>213</th>\n",
       "      <td>Thoothukkudi</td>\n",
       "      <td>30937</td>\n",
       "      <td>16.42</td>\n",
       "      <td>188407</td>\n",
       "      <td>0</td>\n",
       "    </tr>\n",
       "    <tr>\n",
       "      <th>216</th>\n",
       "      <td>Ottapidaram</td>\n",
       "      <td>22413</td>\n",
       "      <td>12.60</td>\n",
       "      <td>177840</td>\n",
       "      <td>0</td>\n",
       "    </tr>\n",
       "    <tr>\n",
       "      <th>227</th>\n",
       "      <td>Radhapuram</td>\n",
       "      <td>19371</td>\n",
       "      <td>10.34</td>\n",
       "      <td>187310</td>\n",
       "      <td>0</td>\n",
       "    </tr>\n",
       "  </tbody>\n",
       "</table>\n",
       "</div>"
      ],
      "text/plain": [
       "               constituency  Total votes      %  All party votes  result\n",
       "4               Poonamallee        29871  11.33           263736       0\n",
       "9             Thiruvottiyur        48597  24.30           199996       0\n",
       "10   Dr.Radhakrishnan Nagar        20437  10.93           187027       0\n",
       "26          Shozhinganallur        38872  10.01           388355       0\n",
       "163                Kilvelur        15173  10.61           142995       0\n",
       "167              Thiruvarur        26300  12.63           208290       0\n",
       "182              Aranthangi        18460  10.98           168048       0\n",
       "183               Karaikudi        23872  11.24           212456       0\n",
       "185               Sivaganga        22500  11.14           202044       0\n",
       "186             Manamadurai        23228  11.44           203061       0\n",
       "202          Srivilliputhur        20348  11.00           185039       0\n",
       "204                Sivakasi        20865  11.28           185047       0\n",
       "213            Thoothukkudi        30937  16.42           188407       0\n",
       "216             Ottapidaram        22413  12.60           177840       0\n",
       "227              Radhapuram        19371  10.34           187310       0"
      ]
     },
     "execution_count": 357,
     "metadata": {},
     "output_type": "execute_result"
    }
   ],
   "source": [
    "df_ntk[df_ntk['%']>10]#.count()"
   ]
  },
  {
   "cell_type": "code",
   "execution_count": 358,
   "metadata": {},
   "outputs": [
    {
     "data": {
      "text/html": [
       "<div>\n",
       "<style scoped>\n",
       "    .dataframe tbody tr th:only-of-type {\n",
       "        vertical-align: middle;\n",
       "    }\n",
       "\n",
       "    .dataframe tbody tr th {\n",
       "        vertical-align: top;\n",
       "    }\n",
       "\n",
       "    .dataframe thead th {\n",
       "        text-align: right;\n",
       "    }\n",
       "</style>\n",
       "<table border=\"1\" class=\"dataframe\">\n",
       "  <thead>\n",
       "    <tr style=\"text-align: right;\">\n",
       "      <th></th>\n",
       "      <th>constituency</th>\n",
       "      <th>Total votes</th>\n",
       "      <th>%</th>\n",
       "      <th>All party votes</th>\n",
       "      <th>result</th>\n",
       "    </tr>\n",
       "  </thead>\n",
       "  <tbody>\n",
       "    <tr>\n",
       "      <th>55</th>\n",
       "      <td>Thalli</td>\n",
       "      <td>3776</td>\n",
       "      <td>1.95</td>\n",
       "      <td>194022</td>\n",
       "      <td>0</td>\n",
       "    </tr>\n",
       "    <tr>\n",
       "      <th>85</th>\n",
       "      <td>Edappadi</td>\n",
       "      <td>6626</td>\n",
       "      <td>2.68</td>\n",
       "      <td>247301</td>\n",
       "      <td>0</td>\n",
       "    </tr>\n",
       "    <tr>\n",
       "      <th>119</th>\n",
       "      <td>Coimbatore (South)</td>\n",
       "      <td>4300</td>\n",
       "      <td>2.78</td>\n",
       "      <td>154765</td>\n",
       "      <td>0</td>\n",
       "    </tr>\n",
       "    <tr>\n",
       "      <th>127</th>\n",
       "      <td>Oddanchatram</td>\n",
       "      <td>4944</td>\n",
       "      <td>2.45</td>\n",
       "      <td>201756</td>\n",
       "      <td>0</td>\n",
       "    </tr>\n",
       "  </tbody>\n",
       "</table>\n",
       "</div>"
      ],
      "text/plain": [
       "           constituency  Total votes     %  All party votes  result\n",
       "55               Thalli         3776  1.95           194022       0\n",
       "85             Edappadi         6626  2.68           247301       0\n",
       "119  Coimbatore (South)         4300  2.78           154765       0\n",
       "127        Oddanchatram         4944  2.45           201756       0"
      ]
     },
     "execution_count": 358,
     "metadata": {},
     "output_type": "execute_result"
    }
   ],
   "source": [
    "df_ntk[df_ntk['%']<3]"
   ]
  },
  {
   "cell_type": "code",
   "execution_count": 359,
   "metadata": {},
   "outputs": [
    {
     "data": {
      "text/html": [
       "<div>\n",
       "<style scoped>\n",
       "    .dataframe tbody tr th:only-of-type {\n",
       "        vertical-align: middle;\n",
       "    }\n",
       "\n",
       "    .dataframe tbody tr th {\n",
       "        vertical-align: top;\n",
       "    }\n",
       "\n",
       "    .dataframe thead th {\n",
       "        text-align: right;\n",
       "    }\n",
       "</style>\n",
       "<table border=\"1\" class=\"dataframe\">\n",
       "  <thead>\n",
       "    <tr style=\"text-align: right;\">\n",
       "      <th></th>\n",
       "      <th>constituency</th>\n",
       "      <th>Total votes</th>\n",
       "      <th>%</th>\n",
       "      <th>All party votes</th>\n",
       "      <th>result</th>\n",
       "    </tr>\n",
       "  </thead>\n",
       "  <tbody>\n",
       "  </tbody>\n",
       "</table>\n",
       "</div>"
      ],
      "text/plain": [
       "Empty DataFrame\n",
       "Columns: [constituency, Total votes, %, All party votes, result]\n",
       "Index: []"
      ]
     },
     "execution_count": 359,
     "metadata": {},
     "output_type": "execute_result"
    }
   ],
   "source": [
    "df_ntk[df_ntk.result == 1]"
   ]
  },
  {
   "cell_type": "markdown",
   "metadata": {},
   "source": [
    "# MNM"
   ]
  },
  {
   "cell_type": "code",
   "execution_count": 360,
   "metadata": {},
   "outputs": [
    {
     "name": "stderr",
     "output_type": "stream",
     "text": [
      "100%|████████████████████████████████████████████████████████████████████████████████| 234/234 [00:30<00:00,  7.67it/s]\n"
     ]
    }
   ],
   "source": [
    "df_mnm = get_data('Makkal Needhi Maiam')"
   ]
  },
  {
   "cell_type": "code",
   "execution_count": 361,
   "metadata": {},
   "outputs": [
    {
     "data": {
      "text/html": [
       "<div>\n",
       "<style scoped>\n",
       "    .dataframe tbody tr th:only-of-type {\n",
       "        vertical-align: middle;\n",
       "    }\n",
       "\n",
       "    .dataframe tbody tr th {\n",
       "        vertical-align: top;\n",
       "    }\n",
       "\n",
       "    .dataframe thead th {\n",
       "        text-align: right;\n",
       "    }\n",
       "</style>\n",
       "<table border=\"1\" class=\"dataframe\">\n",
       "  <thead>\n",
       "    <tr style=\"text-align: right;\">\n",
       "      <th></th>\n",
       "      <th>Total votes</th>\n",
       "      <th>%</th>\n",
       "      <th>All party votes</th>\n",
       "      <th>result</th>\n",
       "    </tr>\n",
       "  </thead>\n",
       "  <tbody>\n",
       "    <tr>\n",
       "      <th>count</th>\n",
       "      <td>180.000000</td>\n",
       "      <td>180.000000</td>\n",
       "      <td>180.000000</td>\n",
       "      <td>180.0</td>\n",
       "    </tr>\n",
       "    <tr>\n",
       "      <th>mean</th>\n",
       "      <td>6723.938889</td>\n",
       "      <td>3.438500</td>\n",
       "      <td>196256.561111</td>\n",
       "      <td>0.0</td>\n",
       "    </tr>\n",
       "    <tr>\n",
       "      <th>std</th>\n",
       "      <td>7469.065389</td>\n",
       "      <td>3.885519</td>\n",
       "      <td>35888.853211</td>\n",
       "      <td>0.0</td>\n",
       "    </tr>\n",
       "    <tr>\n",
       "      <th>min</th>\n",
       "      <td>437.000000</td>\n",
       "      <td>0.280000</td>\n",
       "      <td>101650.000000</td>\n",
       "      <td>0.0</td>\n",
       "    </tr>\n",
       "    <tr>\n",
       "      <th>25%</th>\n",
       "      <td>1967.250000</td>\n",
       "      <td>1.017500</td>\n",
       "      <td>176259.000000</td>\n",
       "      <td>0.0</td>\n",
       "    </tr>\n",
       "    <tr>\n",
       "      <th>50%</th>\n",
       "      <td>3582.000000</td>\n",
       "      <td>1.975000</td>\n",
       "      <td>194988.500000</td>\n",
       "      <td>0.0</td>\n",
       "    </tr>\n",
       "    <tr>\n",
       "      <th>75%</th>\n",
       "      <td>9766.000000</td>\n",
       "      <td>5.030000</td>\n",
       "      <td>211850.000000</td>\n",
       "      <td>0.0</td>\n",
       "    </tr>\n",
       "    <tr>\n",
       "      <th>max</th>\n",
       "      <td>51481.000000</td>\n",
       "      <td>33.260000</td>\n",
       "      <td>388355.000000</td>\n",
       "      <td>0.0</td>\n",
       "    </tr>\n",
       "  </tbody>\n",
       "</table>\n",
       "</div>"
      ],
      "text/plain": [
       "        Total votes           %  All party votes  result\n",
       "count    180.000000  180.000000       180.000000   180.0\n",
       "mean    6723.938889    3.438500    196256.561111     0.0\n",
       "std     7469.065389    3.885519     35888.853211     0.0\n",
       "min      437.000000    0.280000    101650.000000     0.0\n",
       "25%     1967.250000    1.017500    176259.000000     0.0\n",
       "50%     3582.000000    1.975000    194988.500000     0.0\n",
       "75%     9766.000000    5.030000    211850.000000     0.0\n",
       "max    51481.000000   33.260000    388355.000000     0.0"
      ]
     },
     "execution_count": 361,
     "metadata": {},
     "output_type": "execute_result"
    }
   ],
   "source": [
    "df_mnm.describe()"
   ]
  },
  {
   "cell_type": "code",
   "execution_count": 362,
   "metadata": {},
   "outputs": [
    {
     "data": {
      "text/plain": [
       "0"
      ]
     },
     "execution_count": 362,
     "metadata": {},
     "output_type": "execute_result"
    }
   ],
   "source": [
    "df_mnm.result.sum()"
   ]
  },
  {
   "cell_type": "code",
   "execution_count": 363,
   "metadata": {},
   "outputs": [
    {
     "name": "stdout",
     "output_type": "stream",
     "text": [
      "Overall vote percentage = 3.426 %\n"
     ]
    }
   ],
   "source": [
    "vote_per = 100*df_mnm[\"Total votes\"].sum()/df_mnm['All party votes'].sum()\n",
    "print('Overall vote percentage = {0:.3f} %'.format(vote_per))"
   ]
  },
  {
   "cell_type": "code",
   "execution_count": 364,
   "metadata": {},
   "outputs": [
    {
     "data": {
      "text/plain": [
       "<AxesSubplot:title={'center':'MNM'}, xlabel='constituency'>"
      ]
     },
     "execution_count": 364,
     "metadata": {},
     "output_type": "execute_result"
    },
    {
     "data": {
      "image/png": "[encoded data removed]",
      "text/plain": [
       "<Figure size 1080x720 with 1 Axes>"
      ]
     },
     "metadata": {
      "needs_background": "light"
     },
     "output_type": "display_data"
    }
   ],
   "source": [
    "df_mnm.plot(x=\"constituency\", y=\"%\", kind=\"bar\",color=df_mnm['result'].replace({1: \"green\", 0: \"red\"}), title='MNM', figsize=(15, 10))"
   ]
  },
  {
   "cell_type": "code",
   "execution_count": 365,
   "metadata": {},
   "outputs": [
    {
     "data": {
      "text/html": [
       "<div>\n",
       "<style scoped>\n",
       "    .dataframe tbody tr th:only-of-type {\n",
       "        vertical-align: middle;\n",
       "    }\n",
       "\n",
       "    .dataframe tbody tr th {\n",
       "        vertical-align: top;\n",
       "    }\n",
       "\n",
       "    .dataframe thead th {\n",
       "        text-align: right;\n",
       "    }\n",
       "</style>\n",
       "<table border=\"1\" class=\"dataframe\">\n",
       "  <thead>\n",
       "    <tr style=\"text-align: right;\">\n",
       "      <th></th>\n",
       "      <th>constituency</th>\n",
       "      <th>Total votes</th>\n",
       "      <th>%</th>\n",
       "      <th>All party votes</th>\n",
       "      <th>result</th>\n",
       "    </tr>\n",
       "  </thead>\n",
       "  <tbody>\n",
       "    <tr>\n",
       "      <th>142</th>\n",
       "      <td>Madurai East</td>\n",
       "      <td>11993</td>\n",
       "      <td>5.04</td>\n",
       "      <td>237892</td>\n",
       "      <td>0</td>\n",
       "    </tr>\n",
       "    <tr>\n",
       "      <th>144</th>\n",
       "      <td>Madurai North</td>\n",
       "      <td>12102</td>\n",
       "      <td>7.73</td>\n",
       "      <td>156556</td>\n",
       "      <td>0</td>\n",
       "    </tr>\n",
       "    <tr>\n",
       "      <th>145</th>\n",
       "      <td>Madurai South</td>\n",
       "      <td>12821</td>\n",
       "      <td>8.67</td>\n",
       "      <td>147833</td>\n",
       "      <td>0</td>\n",
       "    </tr>\n",
       "    <tr>\n",
       "      <th>146</th>\n",
       "      <td>Madurai Central</td>\n",
       "      <td>14495</td>\n",
       "      <td>9.70</td>\n",
       "      <td>149430</td>\n",
       "      <td>0</td>\n",
       "    </tr>\n",
       "    <tr>\n",
       "      <th>147</th>\n",
       "      <td>Madurai West</td>\n",
       "      <td>15849</td>\n",
       "      <td>7.86</td>\n",
       "      <td>201694</td>\n",
       "      <td>0</td>\n",
       "    </tr>\n",
       "    <tr>\n",
       "      <th>148</th>\n",
       "      <td>Thiruparankundram</td>\n",
       "      <td>16750</td>\n",
       "      <td>7.10</td>\n",
       "      <td>235849</td>\n",
       "      <td>0</td>\n",
       "    </tr>\n",
       "    <tr>\n",
       "      <th>164</th>\n",
       "      <td>Thoothukkudi</td>\n",
       "      <td>10534</td>\n",
       "      <td>5.59</td>\n",
       "      <td>188407</td>\n",
       "      <td>0</td>\n",
       "    </tr>\n",
       "    <tr>\n",
       "      <th>174</th>\n",
       "      <td>Palayamkottai</td>\n",
       "      <td>8107</td>\n",
       "      <td>5.03</td>\n",
       "      <td>161091</td>\n",
       "      <td>0</td>\n",
       "    </tr>\n",
       "  </tbody>\n",
       "</table>\n",
       "</div>"
      ],
      "text/plain": [
       "          constituency  Total votes     %  All party votes  result\n",
       "142       Madurai East        11993  5.04           237892       0\n",
       "144      Madurai North        12102  7.73           156556       0\n",
       "145      Madurai South        12821  8.67           147833       0\n",
       "146    Madurai Central        14495  9.70           149430       0\n",
       "147       Madurai West        15849  7.86           201694       0\n",
       "148  Thiruparankundram        16750  7.10           235849       0\n",
       "164       Thoothukkudi        10534  5.59           188407       0\n",
       "174      Palayamkottai         8107  5.03           161091       0"
      ]
     },
     "execution_count": 365,
     "metadata": {},
     "output_type": "execute_result"
    }
   ],
   "source": [
    "tmp = df_mnm[-60:]\n",
    "tmp[tmp['%']>5]"
   ]
  },
  {
   "cell_type": "code",
   "execution_count": 366,
   "metadata": {},
   "outputs": [
    {
     "data": {
      "text/html": [
       "<div>\n",
       "<style scoped>\n",
       "    .dataframe tbody tr th:only-of-type {\n",
       "        vertical-align: middle;\n",
       "    }\n",
       "\n",
       "    .dataframe tbody tr th {\n",
       "        vertical-align: top;\n",
       "    }\n",
       "\n",
       "    .dataframe thead th {\n",
       "        text-align: right;\n",
       "    }\n",
       "</style>\n",
       "<table border=\"1\" class=\"dataframe\">\n",
       "  <thead>\n",
       "    <tr style=\"text-align: right;\">\n",
       "      <th></th>\n",
       "      <th>constituency</th>\n",
       "      <th>Total votes</th>\n",
       "      <th>%</th>\n",
       "      <th>All party votes</th>\n",
       "      <th>result</th>\n",
       "    </tr>\n",
       "  </thead>\n",
       "  <tbody>\n",
       "    <tr>\n",
       "      <th>65</th>\n",
       "      <td>Salem (North)</td>\n",
       "      <td>10718</td>\n",
       "      <td>5.30</td>\n",
       "      <td>202376</td>\n",
       "      <td>0</td>\n",
       "    </tr>\n",
       "    <tr>\n",
       "      <th>66</th>\n",
       "      <td>Salem (South)</td>\n",
       "      <td>10368</td>\n",
       "      <td>5.18</td>\n",
       "      <td>199982</td>\n",
       "      <td>0</td>\n",
       "    </tr>\n",
       "    <tr>\n",
       "      <th>71</th>\n",
       "      <td>Erode (East)</td>\n",
       "      <td>10005</td>\n",
       "      <td>6.58</td>\n",
       "      <td>152037</td>\n",
       "      <td>0</td>\n",
       "    </tr>\n",
       "    <tr>\n",
       "      <th>84</th>\n",
       "      <td>Tiruppur (North)</td>\n",
       "      <td>19602</td>\n",
       "      <td>8.23</td>\n",
       "      <td>238092</td>\n",
       "      <td>0</td>\n",
       "    </tr>\n",
       "    <tr>\n",
       "      <th>85</th>\n",
       "      <td>Tiruppur (South)</td>\n",
       "      <td>9934</td>\n",
       "      <td>5.70</td>\n",
       "      <td>174418</td>\n",
       "      <td>0</td>\n",
       "    </tr>\n",
       "    <tr>\n",
       "      <th>87</th>\n",
       "      <td>Sulur</td>\n",
       "      <td>12658</td>\n",
       "      <td>5.24</td>\n",
       "      <td>241653</td>\n",
       "      <td>0</td>\n",
       "    </tr>\n",
       "    <tr>\n",
       "      <th>88</th>\n",
       "      <td>Kavundampalayam</td>\n",
       "      <td>23527</td>\n",
       "      <td>7.59</td>\n",
       "      <td>309918</td>\n",
       "      <td>0</td>\n",
       "    </tr>\n",
       "    <tr>\n",
       "      <th>89</th>\n",
       "      <td>Coimbatore (North)</td>\n",
       "      <td>26503</td>\n",
       "      <td>13.07</td>\n",
       "      <td>202799</td>\n",
       "      <td>0</td>\n",
       "    </tr>\n",
       "    <tr>\n",
       "      <th>90</th>\n",
       "      <td>Thondamuthur</td>\n",
       "      <td>11606</td>\n",
       "      <td>5.03</td>\n",
       "      <td>230531</td>\n",
       "      <td>0</td>\n",
       "    </tr>\n",
       "    <tr>\n",
       "      <th>91</th>\n",
       "      <td>Coimbatore (South)</td>\n",
       "      <td>51481</td>\n",
       "      <td>33.26</td>\n",
       "      <td>154765</td>\n",
       "      <td>0</td>\n",
       "    </tr>\n",
       "    <tr>\n",
       "      <th>92</th>\n",
       "      <td>Singanallur</td>\n",
       "      <td>36855</td>\n",
       "      <td>18.24</td>\n",
       "      <td>202021</td>\n",
       "      <td>0</td>\n",
       "    </tr>\n",
       "    <tr>\n",
       "      <th>93</th>\n",
       "      <td>Kinathukadavu</td>\n",
       "      <td>13939</td>\n",
       "      <td>6.00</td>\n",
       "      <td>232435</td>\n",
       "      <td>0</td>\n",
       "    </tr>\n",
       "    <tr>\n",
       "      <th>107</th>\n",
       "      <td>Tiruchirappalli (West)</td>\n",
       "      <td>10546</td>\n",
       "      <td>5.76</td>\n",
       "      <td>183099</td>\n",
       "      <td>0</td>\n",
       "    </tr>\n",
       "    <tr>\n",
       "      <th>108</th>\n",
       "      <td>Tiruchirappalli (East)</td>\n",
       "      <td>11396</td>\n",
       "      <td>6.59</td>\n",
       "      <td>172856</td>\n",
       "      <td>0</td>\n",
       "    </tr>\n",
       "    <tr>\n",
       "      <th>109</th>\n",
       "      <td>Thiruverumbur</td>\n",
       "      <td>14678</td>\n",
       "      <td>7.45</td>\n",
       "      <td>197013</td>\n",
       "      <td>0</td>\n",
       "    </tr>\n",
       "  </tbody>\n",
       "</table>\n",
       "</div>"
      ],
      "text/plain": [
       "               constituency  Total votes      %  All party votes  result\n",
       "65            Salem (North)        10718   5.30           202376       0\n",
       "66            Salem (South)        10368   5.18           199982       0\n",
       "71             Erode (East)        10005   6.58           152037       0\n",
       "84         Tiruppur (North)        19602   8.23           238092       0\n",
       "85         Tiruppur (South)         9934   5.70           174418       0\n",
       "87                    Sulur        12658   5.24           241653       0\n",
       "88          Kavundampalayam        23527   7.59           309918       0\n",
       "89       Coimbatore (North)        26503  13.07           202799       0\n",
       "90             Thondamuthur        11606   5.03           230531       0\n",
       "91       Coimbatore (South)        51481  33.26           154765       0\n",
       "92              Singanallur        36855  18.24           202021       0\n",
       "93            Kinathukadavu        13939   6.00           232435       0\n",
       "107  Tiruchirappalli (West)        10546   5.76           183099       0\n",
       "108  Tiruchirappalli (East)        11396   6.59           172856       0\n",
       "109           Thiruverumbur        14678   7.45           197013       0"
      ]
     },
     "execution_count": 366,
     "metadata": {},
     "output_type": "execute_result"
    }
   ],
   "source": [
    "tmp = df_mnm[-120:-60]\n",
    "tmp[tmp['%']>5]"
   ]
  },
  {
   "cell_type": "code",
   "execution_count": 367,
   "metadata": {},
   "outputs": [
    {
     "data": {
      "text/html": [
       "<div>\n",
       "<style scoped>\n",
       "    .dataframe tbody tr th:only-of-type {\n",
       "        vertical-align: middle;\n",
       "    }\n",
       "\n",
       "    .dataframe tbody tr th {\n",
       "        vertical-align: top;\n",
       "    }\n",
       "\n",
       "    .dataframe thead th {\n",
       "        text-align: right;\n",
       "    }\n",
       "</style>\n",
       "<table border=\"1\" class=\"dataframe\">\n",
       "  <thead>\n",
       "    <tr style=\"text-align: right;\">\n",
       "      <th></th>\n",
       "      <th>constituency</th>\n",
       "      <th>Total votes</th>\n",
       "      <th>%</th>\n",
       "      <th>All party votes</th>\n",
       "      <th>result</th>\n",
       "    </tr>\n",
       "  </thead>\n",
       "  <tbody>\n",
       "    <tr>\n",
       "      <th>2</th>\n",
       "      <td>Avadi</td>\n",
       "      <td>17092</td>\n",
       "      <td>5.68</td>\n",
       "      <td>300927</td>\n",
       "      <td>0</td>\n",
       "    </tr>\n",
       "    <tr>\n",
       "      <th>3</th>\n",
       "      <td>Maduravoyal</td>\n",
       "      <td>33401</td>\n",
       "      <td>12.20</td>\n",
       "      <td>273870</td>\n",
       "      <td>0</td>\n",
       "    </tr>\n",
       "    <tr>\n",
       "      <th>4</th>\n",
       "      <td>Ambattur</td>\n",
       "      <td>22370</td>\n",
       "      <td>9.31</td>\n",
       "      <td>240299</td>\n",
       "      <td>0</td>\n",
       "    </tr>\n",
       "    <tr>\n",
       "      <th>5</th>\n",
       "      <td>Madavaram</td>\n",
       "      <td>15877</td>\n",
       "      <td>5.25</td>\n",
       "      <td>302700</td>\n",
       "      <td>0</td>\n",
       "    </tr>\n",
       "    <tr>\n",
       "      <th>7</th>\n",
       "      <td>Dr.Radhakrishnan Nagar</td>\n",
       "      <td>11198</td>\n",
       "      <td>5.99</td>\n",
       "      <td>187027</td>\n",
       "      <td>0</td>\n",
       "    </tr>\n",
       "    <tr>\n",
       "      <th>8</th>\n",
       "      <td>Perambur</td>\n",
       "      <td>17072</td>\n",
       "      <td>8.52</td>\n",
       "      <td>200387</td>\n",
       "      <td>0</td>\n",
       "    </tr>\n",
       "    <tr>\n",
       "      <th>9</th>\n",
       "      <td>Kolathur</td>\n",
       "      <td>14076</td>\n",
       "      <td>8.12</td>\n",
       "      <td>173388</td>\n",
       "      <td>0</td>\n",
       "    </tr>\n",
       "    <tr>\n",
       "      <th>10</th>\n",
       "      <td>Villivakkam</td>\n",
       "      <td>13364</td>\n",
       "      <td>9.27</td>\n",
       "      <td>144092</td>\n",
       "      <td>0</td>\n",
       "    </tr>\n",
       "    <tr>\n",
       "      <th>11</th>\n",
       "      <td>Nagar</td>\n",
       "      <td>9710</td>\n",
       "      <td>7.26</td>\n",
       "      <td>133696</td>\n",
       "      <td>0</td>\n",
       "    </tr>\n",
       "    <tr>\n",
       "      <th>12</th>\n",
       "      <td>Egmore</td>\n",
       "      <td>9990</td>\n",
       "      <td>8.38</td>\n",
       "      <td>119271</td>\n",
       "      <td>0</td>\n",
       "    </tr>\n",
       "    <tr>\n",
       "      <th>13</th>\n",
       "      <td>Royapuram</td>\n",
       "      <td>8166</td>\n",
       "      <td>6.74</td>\n",
       "      <td>121191</td>\n",
       "      <td>0</td>\n",
       "    </tr>\n",
       "    <tr>\n",
       "      <th>15</th>\n",
       "      <td>Thousand Lights</td>\n",
       "      <td>11791</td>\n",
       "      <td>8.67</td>\n",
       "      <td>135940</td>\n",
       "      <td>0</td>\n",
       "    </tr>\n",
       "    <tr>\n",
       "      <th>16</th>\n",
       "      <td>Anna Nagar</td>\n",
       "      <td>17522</td>\n",
       "      <td>10.61</td>\n",
       "      <td>165096</td>\n",
       "      <td>0</td>\n",
       "    </tr>\n",
       "    <tr>\n",
       "      <th>17</th>\n",
       "      <td>Virugampakkam</td>\n",
       "      <td>16939</td>\n",
       "      <td>10.02</td>\n",
       "      <td>169087</td>\n",
       "      <td>0</td>\n",
       "    </tr>\n",
       "    <tr>\n",
       "      <th>18</th>\n",
       "      <td>Saidapet</td>\n",
       "      <td>13426</td>\n",
       "      <td>8.37</td>\n",
       "      <td>160327</td>\n",
       "      <td>0</td>\n",
       "    </tr>\n",
       "    <tr>\n",
       "      <th>19</th>\n",
       "      <td>Thiyagarayanagar</td>\n",
       "      <td>14567</td>\n",
       "      <td>10.55</td>\n",
       "      <td>138114</td>\n",
       "      <td>0</td>\n",
       "    </tr>\n",
       "    <tr>\n",
       "      <th>20</th>\n",
       "      <td>Mylapore</td>\n",
       "      <td>14904</td>\n",
       "      <td>9.71</td>\n",
       "      <td>153430</td>\n",
       "      <td>0</td>\n",
       "    </tr>\n",
       "    <tr>\n",
       "      <th>21</th>\n",
       "      <td>Velachery</td>\n",
       "      <td>23072</td>\n",
       "      <td>13.06</td>\n",
       "      <td>176714</td>\n",
       "      <td>0</td>\n",
       "    </tr>\n",
       "    <tr>\n",
       "      <th>22</th>\n",
       "      <td>Shozhinganallur</td>\n",
       "      <td>30284</td>\n",
       "      <td>7.80</td>\n",
       "      <td>388355</td>\n",
       "      <td>0</td>\n",
       "    </tr>\n",
       "    <tr>\n",
       "      <th>23</th>\n",
       "      <td>Alandur</td>\n",
       "      <td>21117</td>\n",
       "      <td>8.88</td>\n",
       "      <td>237751</td>\n",
       "      <td>0</td>\n",
       "    </tr>\n",
       "    <tr>\n",
       "      <th>25</th>\n",
       "      <td>Pallavaram</td>\n",
       "      <td>20612</td>\n",
       "      <td>7.74</td>\n",
       "      <td>266194</td>\n",
       "      <td>0</td>\n",
       "    </tr>\n",
       "    <tr>\n",
       "      <th>26</th>\n",
       "      <td>Tambaram</td>\n",
       "      <td>22530</td>\n",
       "      <td>9.05</td>\n",
       "      <td>248968</td>\n",
       "      <td>0</td>\n",
       "    </tr>\n",
       "    <tr>\n",
       "      <th>31</th>\n",
       "      <td>Kancheepuram</td>\n",
       "      <td>12028</td>\n",
       "      <td>5.24</td>\n",
       "      <td>229432</td>\n",
       "      <td>0</td>\n",
       "    </tr>\n",
       "  </tbody>\n",
       "</table>\n",
       "</div>"
      ],
      "text/plain": [
       "              constituency  Total votes      %  All party votes  result\n",
       "2                    Avadi        17092   5.68           300927       0\n",
       "3              Maduravoyal        33401  12.20           273870       0\n",
       "4                 Ambattur        22370   9.31           240299       0\n",
       "5                Madavaram        15877   5.25           302700       0\n",
       "7   Dr.Radhakrishnan Nagar        11198   5.99           187027       0\n",
       "8                 Perambur        17072   8.52           200387       0\n",
       "9                 Kolathur        14076   8.12           173388       0\n",
       "10             Villivakkam        13364   9.27           144092       0\n",
       "11                   Nagar         9710   7.26           133696       0\n",
       "12                  Egmore         9990   8.38           119271       0\n",
       "13               Royapuram         8166   6.74           121191       0\n",
       "15         Thousand Lights        11791   8.67           135940       0\n",
       "16              Anna Nagar        17522  10.61           165096       0\n",
       "17           Virugampakkam        16939  10.02           169087       0\n",
       "18                Saidapet        13426   8.37           160327       0\n",
       "19        Thiyagarayanagar        14567  10.55           138114       0\n",
       "20                Mylapore        14904   9.71           153430       0\n",
       "21               Velachery        23072  13.06           176714       0\n",
       "22         Shozhinganallur        30284   7.80           388355       0\n",
       "23                 Alandur        21117   8.88           237751       0\n",
       "25              Pallavaram        20612   7.74           266194       0\n",
       "26                Tambaram        22530   9.05           248968       0\n",
       "31            Kancheepuram        12028   5.24           229432       0"
      ]
     },
     "execution_count": 367,
     "metadata": {},
     "output_type": "execute_result"
    }
   ],
   "source": [
    "tmp = df_mnm[:-120]\n",
    "tmp[tmp['%']>5]"
   ]
  },
  {
   "cell_type": "code",
   "execution_count": 368,
   "metadata": {},
   "outputs": [
    {
     "data": {
      "text/plain": [
       "constituency       8\n",
       "Total votes        8\n",
       "%                  8\n",
       "All party votes    8\n",
       "result             8\n",
       "dtype: int64"
      ]
     },
     "execution_count": 368,
     "metadata": {},
     "output_type": "execute_result"
    }
   ],
   "source": [
    "df_mnm[df_mnm['%']>10].count()"
   ]
  },
  {
   "cell_type": "code",
   "execution_count": 369,
   "metadata": {},
   "outputs": [
    {
     "data": {
      "text/plain": [
       "constituency       42\n",
       "Total votes        42\n",
       "%                  42\n",
       "All party votes    42\n",
       "result             42\n",
       "dtype: int64"
      ]
     },
     "execution_count": 369,
     "metadata": {},
     "output_type": "execute_result"
    }
   ],
   "source": [
    "df_mnm[df_mnm['%']<1].count()"
   ]
  },
  {
   "cell_type": "code",
   "execution_count": 370,
   "metadata": {},
   "outputs": [
    {
     "data": {
      "text/html": [
       "<div>\n",
       "<style scoped>\n",
       "    .dataframe tbody tr th:only-of-type {\n",
       "        vertical-align: middle;\n",
       "    }\n",
       "\n",
       "    .dataframe tbody tr th {\n",
       "        vertical-align: top;\n",
       "    }\n",
       "\n",
       "    .dataframe thead th {\n",
       "        text-align: right;\n",
       "    }\n",
       "</style>\n",
       "<table border=\"1\" class=\"dataframe\">\n",
       "  <thead>\n",
       "    <tr style=\"text-align: right;\">\n",
       "      <th></th>\n",
       "      <th>constituency</th>\n",
       "      <th>Total votes</th>\n",
       "      <th>%</th>\n",
       "      <th>All party votes</th>\n",
       "      <th>result</th>\n",
       "    </tr>\n",
       "  </thead>\n",
       "  <tbody>\n",
       "  </tbody>\n",
       "</table>\n",
       "</div>"
      ],
      "text/plain": [
       "Empty DataFrame\n",
       "Columns: [constituency, Total votes, %, All party votes, result]\n",
       "Index: []"
      ]
     },
     "execution_count": 370,
     "metadata": {},
     "output_type": "execute_result"
    }
   ],
   "source": [
    "df_mnm[df_mnm.result == 1]"
   ]
  },
  {
   "cell_type": "markdown",
   "metadata": {},
   "source": [
    "# AMMK"
   ]
  },
  {
   "cell_type": "code",
   "execution_count": 372,
   "metadata": {},
   "outputs": [
    {
     "name": "stderr",
     "output_type": "stream",
     "text": [
      "100%|████████████████████████████████████████████████████████████████████████████████| 234/234 [00:34<00:00,  6.74it/s]\n"
     ]
    }
   ],
   "source": [
    "df_ammk = get_data('Amma Makkal Munnettra Kazagam')"
   ]
  },
  {
   "cell_type": "code",
   "execution_count": 373,
   "metadata": {},
   "outputs": [
    {
     "data": {
      "text/html": [
       "<div>\n",
       "<style scoped>\n",
       "    .dataframe tbody tr th:only-of-type {\n",
       "        vertical-align: middle;\n",
       "    }\n",
       "\n",
       "    .dataframe tbody tr th {\n",
       "        vertical-align: top;\n",
       "    }\n",
       "\n",
       "    .dataframe thead th {\n",
       "        text-align: right;\n",
       "    }\n",
       "</style>\n",
       "<table border=\"1\" class=\"dataframe\">\n",
       "  <thead>\n",
       "    <tr style=\"text-align: right;\">\n",
       "      <th></th>\n",
       "      <th>Total votes</th>\n",
       "      <th>%</th>\n",
       "      <th>All party votes</th>\n",
       "      <th>result</th>\n",
       "    </tr>\n",
       "  </thead>\n",
       "  <tbody>\n",
       "    <tr>\n",
       "      <th>count</th>\n",
       "      <td>165.000000</td>\n",
       "      <td>165.000000</td>\n",
       "      <td>165.000000</td>\n",
       "      <td>165.0</td>\n",
       "    </tr>\n",
       "    <tr>\n",
       "      <th>mean</th>\n",
       "      <td>6581.490909</td>\n",
       "      <td>3.342182</td>\n",
       "      <td>197708.484848</td>\n",
       "      <td>0.0</td>\n",
       "    </tr>\n",
       "    <tr>\n",
       "      <th>std</th>\n",
       "      <td>10095.077458</td>\n",
       "      <td>5.122261</td>\n",
       "      <td>31583.261186</td>\n",
       "      <td>0.0</td>\n",
       "    </tr>\n",
       "    <tr>\n",
       "      <th>min</th>\n",
       "      <td>346.000000</td>\n",
       "      <td>0.180000</td>\n",
       "      <td>101650.000000</td>\n",
       "      <td>0.0</td>\n",
       "    </tr>\n",
       "    <tr>\n",
       "      <th>25%</th>\n",
       "      <td>1284.000000</td>\n",
       "      <td>0.720000</td>\n",
       "      <td>177200.000000</td>\n",
       "      <td>0.0</td>\n",
       "    </tr>\n",
       "    <tr>\n",
       "      <th>50%</th>\n",
       "      <td>2435.000000</td>\n",
       "      <td>1.160000</td>\n",
       "      <td>197784.000000</td>\n",
       "      <td>0.0</td>\n",
       "    </tr>\n",
       "    <tr>\n",
       "      <th>75%</th>\n",
       "      <td>7104.000000</td>\n",
       "      <td>3.430000</td>\n",
       "      <td>214108.000000</td>\n",
       "      <td>0.0</td>\n",
       "    </tr>\n",
       "    <tr>\n",
       "      <th>max</th>\n",
       "      <td>56153.000000</td>\n",
       "      <td>31.040000</td>\n",
       "      <td>309918.000000</td>\n",
       "      <td>0.0</td>\n",
       "    </tr>\n",
       "  </tbody>\n",
       "</table>\n",
       "</div>"
      ],
      "text/plain": [
       "        Total votes           %  All party votes  result\n",
       "count    165.000000  165.000000       165.000000   165.0\n",
       "mean    6581.490909    3.342182    197708.484848     0.0\n",
       "std    10095.077458    5.122261     31583.261186     0.0\n",
       "min      346.000000    0.180000    101650.000000     0.0\n",
       "25%     1284.000000    0.720000    177200.000000     0.0\n",
       "50%     2435.000000    1.160000    197784.000000     0.0\n",
       "75%     7104.000000    3.430000    214108.000000     0.0\n",
       "max    56153.000000   31.040000    309918.000000     0.0"
      ]
     },
     "execution_count": 373,
     "metadata": {},
     "output_type": "execute_result"
    }
   ],
   "source": [
    "df_ammk.describe()"
   ]
  },
  {
   "cell_type": "code",
   "execution_count": 374,
   "metadata": {},
   "outputs": [
    {
     "data": {
      "text/plain": [
       "0"
      ]
     },
     "execution_count": 374,
     "metadata": {},
     "output_type": "execute_result"
    }
   ],
   "source": [
    "df_ammk.result.sum()"
   ]
  },
  {
   "cell_type": "code",
   "execution_count": 375,
   "metadata": {},
   "outputs": [
    {
     "name": "stdout",
     "output_type": "stream",
     "text": [
      "Overall vote percentage = 3.329 %\n"
     ]
    }
   ],
   "source": [
    "vote_per = 100*df_ammk[\"Total votes\"].sum()/df_ammk['All party votes'].sum()\n",
    "print('Overall vote percentage = {0:.3f} %'.format(vote_per))"
   ]
  },
  {
   "cell_type": "code",
   "execution_count": 376,
   "metadata": {},
   "outputs": [
    {
     "data": {
      "text/plain": [
       "<AxesSubplot:title={'center':'AMMK'}, xlabel='constituency'>"
      ]
     },
     "execution_count": 376,
     "metadata": {},
     "output_type": "execute_result"
    },
    {
     "data": {
      "image/png": "[encoded data removed]",
      "text/plain": [
       "<Figure size 1080x720 with 1 Axes>"
      ]
     },
     "metadata": {
      "needs_background": "light"
     },
     "output_type": "display_data"
    }
   ],
   "source": [
    "df_ammk.plot(x=\"constituency\", y=\"%\", kind=\"bar\",color=df_ammk['result'].replace({1: \"green\", 0: \"red\"}), title='AMMK', figsize=(15, 10))"
   ]
  },
  {
   "cell_type": "code",
   "execution_count": 377,
   "metadata": {},
   "outputs": [
    {
     "data": {
      "text/html": [
       "<div>\n",
       "<style scoped>\n",
       "    .dataframe tbody tr th:only-of-type {\n",
       "        vertical-align: middle;\n",
       "    }\n",
       "\n",
       "    .dataframe tbody tr th {\n",
       "        vertical-align: top;\n",
       "    }\n",
       "\n",
       "    .dataframe thead th {\n",
       "        text-align: right;\n",
       "    }\n",
       "</style>\n",
       "<table border=\"1\" class=\"dataframe\">\n",
       "  <thead>\n",
       "    <tr style=\"text-align: right;\">\n",
       "      <th></th>\n",
       "      <th>constituency</th>\n",
       "      <th>Total votes</th>\n",
       "      <th>%</th>\n",
       "      <th>All party votes</th>\n",
       "      <th>result</th>\n",
       "    </tr>\n",
       "  </thead>\n",
       "  <tbody>\n",
       "    <tr>\n",
       "      <th>113</th>\n",
       "      <td>Mannargudi</td>\n",
       "      <td>40481</td>\n",
       "      <td>20.95</td>\n",
       "      <td>193229</td>\n",
       "      <td>0</td>\n",
       "    </tr>\n",
       "    <tr>\n",
       "      <th>118</th>\n",
       "      <td>Thiruvaiyaru</td>\n",
       "      <td>37469</td>\n",
       "      <td>17.72</td>\n",
       "      <td>211430</td>\n",
       "      <td>0</td>\n",
       "    </tr>\n",
       "    <tr>\n",
       "      <th>126</th>\n",
       "      <td>Karaikudi</td>\n",
       "      <td>44864</td>\n",
       "      <td>21.12</td>\n",
       "      <td>212456</td>\n",
       "      <td>0</td>\n",
       "    </tr>\n",
       "    <tr>\n",
       "      <th>130</th>\n",
       "      <td>Melur</td>\n",
       "      <td>34262</td>\n",
       "      <td>18.74</td>\n",
       "      <td>182782</td>\n",
       "      <td>0</td>\n",
       "    </tr>\n",
       "    <tr>\n",
       "      <th>136</th>\n",
       "      <td>Usilampatti</td>\n",
       "      <td>55491</td>\n",
       "      <td>26.11</td>\n",
       "      <td>212513</td>\n",
       "      <td>0</td>\n",
       "    </tr>\n",
       "    <tr>\n",
       "      <th>143</th>\n",
       "      <td>Sattur</td>\n",
       "      <td>32916</td>\n",
       "      <td>17.16</td>\n",
       "      <td>191783</td>\n",
       "      <td>0</td>\n",
       "    </tr>\n",
       "    <tr>\n",
       "      <th>147</th>\n",
       "      <td>Tiruvadanai</td>\n",
       "      <td>33426</td>\n",
       "      <td>16.56</td>\n",
       "      <td>201815</td>\n",
       "      <td>0</td>\n",
       "    </tr>\n",
       "    <tr>\n",
       "      <th>153</th>\n",
       "      <td>Kovilpatti</td>\n",
       "      <td>56153</td>\n",
       "      <td>31.04</td>\n",
       "      <td>180928</td>\n",
       "      <td>0</td>\n",
       "    </tr>\n",
       "    <tr>\n",
       "      <th>156</th>\n",
       "      <td>Kadayanallur</td>\n",
       "      <td>34216</td>\n",
       "      <td>16.66</td>\n",
       "      <td>205374</td>\n",
       "      <td>0</td>\n",
       "    </tr>\n",
       "    <tr>\n",
       "      <th>160</th>\n",
       "      <td>Nanguneri</td>\n",
       "      <td>31870</td>\n",
       "      <td>16.55</td>\n",
       "      <td>192522</td>\n",
       "      <td>0</td>\n",
       "    </tr>\n",
       "  </tbody>\n",
       "</table>\n",
       "</div>"
      ],
      "text/plain": [
       "     constituency  Total votes      %  All party votes  result\n",
       "113    Mannargudi        40481  20.95           193229       0\n",
       "118  Thiruvaiyaru        37469  17.72           211430       0\n",
       "126     Karaikudi        44864  21.12           212456       0\n",
       "130         Melur        34262  18.74           182782       0\n",
       "136   Usilampatti        55491  26.11           212513       0\n",
       "143        Sattur        32916  17.16           191783       0\n",
       "147   Tiruvadanai        33426  16.56           201815       0\n",
       "153    Kovilpatti        56153  31.04           180928       0\n",
       "156  Kadayanallur        34216  16.66           205374       0\n",
       "160     Nanguneri        31870  16.55           192522       0"
      ]
     },
     "execution_count": 377,
     "metadata": {},
     "output_type": "execute_result"
    }
   ],
   "source": [
    "tmp = df_ammk[-60:]\n",
    "tmp[tmp['%']>15]"
   ]
  },
  {
   "cell_type": "code",
   "execution_count": 378,
   "metadata": {},
   "outputs": [
    {
     "data": {
      "text/plain": [
       "constituency       14\n",
       "Total votes        14\n",
       "%                  14\n",
       "All party votes    14\n",
       "result             14\n",
       "dtype: int64"
      ]
     },
     "execution_count": 378,
     "metadata": {},
     "output_type": "execute_result"
    }
   ],
   "source": [
    "df_ammk[df_ammk['%']>10].count()"
   ]
  },
  {
   "cell_type": "code",
   "execution_count": 379,
   "metadata": {},
   "outputs": [
    {
     "data": {
      "text/plain": [
       "constituency       59\n",
       "Total votes        59\n",
       "%                  59\n",
       "All party votes    59\n",
       "result             59\n",
       "dtype: int64"
      ]
     },
     "execution_count": 379,
     "metadata": {},
     "output_type": "execute_result"
    }
   ],
   "source": [
    "df_ammk[df_ammk['%']>2].count()"
   ]
  },
  {
   "cell_type": "code",
   "execution_count": 380,
   "metadata": {},
   "outputs": [
    {
     "data": {
      "text/html": [
       "<div>\n",
       "<style scoped>\n",
       "    .dataframe tbody tr th:only-of-type {\n",
       "        vertical-align: middle;\n",
       "    }\n",
       "\n",
       "    .dataframe tbody tr th {\n",
       "        vertical-align: top;\n",
       "    }\n",
       "\n",
       "    .dataframe thead th {\n",
       "        text-align: right;\n",
       "    }\n",
       "</style>\n",
       "<table border=\"1\" class=\"dataframe\">\n",
       "  <thead>\n",
       "    <tr style=\"text-align: right;\">\n",
       "      <th></th>\n",
       "      <th>constituency</th>\n",
       "      <th>Total votes</th>\n",
       "      <th>%</th>\n",
       "      <th>All party votes</th>\n",
       "      <th>result</th>\n",
       "    </tr>\n",
       "  </thead>\n",
       "  <tbody>\n",
       "  </tbody>\n",
       "</table>\n",
       "</div>"
      ],
      "text/plain": [
       "Empty DataFrame\n",
       "Columns: [constituency, Total votes, %, All party votes, result]\n",
       "Index: []"
      ]
     },
     "execution_count": 380,
     "metadata": {},
     "output_type": "execute_result"
    }
   ],
   "source": [
    "df_ammk[df_ammk.result == 1]"
   ]
  },
  {
   "cell_type": "markdown",
   "metadata": {},
   "source": [
    "# DMDK"
   ]
  },
  {
   "cell_type": "code",
   "execution_count": 381,
   "metadata": {},
   "outputs": [
    {
     "name": "stderr",
     "output_type": "stream",
     "text": [
      "100%|████████████████████████████████████████████████████████████████████████████████| 234/234 [00:27<00:00,  8.42it/s]\n"
     ]
    }
   ],
   "source": [
    "df_dmdk = get_data('Desiya Murpokku Dravida Kazhagam')"
   ]
  },
  {
   "cell_type": "code",
   "execution_count": 382,
   "metadata": {},
   "outputs": [
    {
     "data": {
      "text/html": [
       "<div>\n",
       "<style scoped>\n",
       "    .dataframe tbody tr th:only-of-type {\n",
       "        vertical-align: middle;\n",
       "    }\n",
       "\n",
       "    .dataframe tbody tr th {\n",
       "        vertical-align: top;\n",
       "    }\n",
       "\n",
       "    .dataframe thead th {\n",
       "        text-align: right;\n",
       "    }\n",
       "</style>\n",
       "<table border=\"1\" class=\"dataframe\">\n",
       "  <thead>\n",
       "    <tr style=\"text-align: right;\">\n",
       "      <th></th>\n",
       "      <th>Total votes</th>\n",
       "      <th>%</th>\n",
       "      <th>All party votes</th>\n",
       "      <th>result</th>\n",
       "    </tr>\n",
       "  </thead>\n",
       "  <tbody>\n",
       "    <tr>\n",
       "      <th>count</th>\n",
       "      <td>60.000000</td>\n",
       "      <td>60.000000</td>\n",
       "      <td>60.000000</td>\n",
       "      <td>60.0</td>\n",
       "    </tr>\n",
       "    <tr>\n",
       "      <th>mean</th>\n",
       "      <td>3335.933333</td>\n",
       "      <td>1.691000</td>\n",
       "      <td>197993.433333</td>\n",
       "      <td>0.0</td>\n",
       "    </tr>\n",
       "    <tr>\n",
       "      <th>std</th>\n",
       "      <td>3654.675176</td>\n",
       "      <td>1.834567</td>\n",
       "      <td>39322.257372</td>\n",
       "      <td>0.0</td>\n",
       "    </tr>\n",
       "    <tr>\n",
       "      <th>min</th>\n",
       "      <td>858.000000</td>\n",
       "      <td>0.450000</td>\n",
       "      <td>119271.000000</td>\n",
       "      <td>0.0</td>\n",
       "    </tr>\n",
       "    <tr>\n",
       "      <th>25%</th>\n",
       "      <td>1842.500000</td>\n",
       "      <td>0.947500</td>\n",
       "      <td>179559.500000</td>\n",
       "      <td>0.0</td>\n",
       "    </tr>\n",
       "    <tr>\n",
       "      <th>50%</th>\n",
       "      <td>2554.000000</td>\n",
       "      <td>1.230000</td>\n",
       "      <td>195538.000000</td>\n",
       "      <td>0.0</td>\n",
       "    </tr>\n",
       "    <tr>\n",
       "      <th>75%</th>\n",
       "      <td>3586.750000</td>\n",
       "      <td>1.710000</td>\n",
       "      <td>210885.500000</td>\n",
       "      <td>0.0</td>\n",
       "    </tr>\n",
       "    <tr>\n",
       "      <th>max</th>\n",
       "      <td>25908.000000</td>\n",
       "      <td>13.170000</td>\n",
       "      <td>388355.000000</td>\n",
       "      <td>0.0</td>\n",
       "    </tr>\n",
       "  </tbody>\n",
       "</table>\n",
       "</div>"
      ],
      "text/plain": [
       "        Total votes          %  All party votes  result\n",
       "count     60.000000  60.000000        60.000000    60.0\n",
       "mean    3335.933333   1.691000    197993.433333     0.0\n",
       "std     3654.675176   1.834567     39322.257372     0.0\n",
       "min      858.000000   0.450000    119271.000000     0.0\n",
       "25%     1842.500000   0.947500    179559.500000     0.0\n",
       "50%     2554.000000   1.230000    195538.000000     0.0\n",
       "75%     3586.750000   1.710000    210885.500000     0.0\n",
       "max    25908.000000  13.170000    388355.000000     0.0"
      ]
     },
     "execution_count": 382,
     "metadata": {},
     "output_type": "execute_result"
    }
   ],
   "source": [
    "df_dmdk.describe()"
   ]
  },
  {
   "cell_type": "code",
   "execution_count": 383,
   "metadata": {},
   "outputs": [
    {
     "name": "stdout",
     "output_type": "stream",
     "text": [
      "Overall vote percentage = 1.685 %\n"
     ]
    }
   ],
   "source": [
    "vote_per = 100*df_dmdk[\"Total votes\"].sum()/df_dmdk['All party votes'].sum()\n",
    "print('Overall vote percentage = {0:.3f} %'.format(vote_per))"
   ]
  },
  {
   "cell_type": "code",
   "execution_count": 384,
   "metadata": {},
   "outputs": [
    {
     "data": {
      "text/plain": [
       "<AxesSubplot:title={'center':'DMDK'}, xlabel='constituency'>"
      ]
     },
     "execution_count": 384,
     "metadata": {},
     "output_type": "execute_result"
    },
    {
     "data": {
      "image/png": "[encoded data removed]",
      "text/plain": [
       "<Figure size 1080x720 with 1 Axes>"
      ]
     },
     "metadata": {
      "needs_background": "light"
     },
     "output_type": "display_data"
    }
   ],
   "source": [
    "df_dmdk.plot(x=\"constituency\", y=\"%\", kind=\"bar\",color=df_dmdk['result'].replace({1: \"green\", 0: \"red\"}), title='DMDK', figsize=(15, 10))"
   ]
  },
  {
   "cell_type": "code",
   "execution_count": 385,
   "metadata": {},
   "outputs": [
    {
     "data": {
      "text/html": [
       "<div>\n",
       "<style scoped>\n",
       "    .dataframe tbody tr th:only-of-type {\n",
       "        vertical-align: middle;\n",
       "    }\n",
       "\n",
       "    .dataframe tbody tr th {\n",
       "        vertical-align: top;\n",
       "    }\n",
       "\n",
       "    .dataframe thead th {\n",
       "        text-align: right;\n",
       "    }\n",
       "</style>\n",
       "<table border=\"1\" class=\"dataframe\">\n",
       "  <thead>\n",
       "    <tr style=\"text-align: right;\">\n",
       "      <th></th>\n",
       "      <th>constituency</th>\n",
       "      <th>Total votes</th>\n",
       "      <th>%</th>\n",
       "      <th>All party votes</th>\n",
       "      <th>result</th>\n",
       "    </tr>\n",
       "  </thead>\n",
       "  <tbody>\n",
       "    <tr>\n",
       "      <th>44</th>\n",
       "      <td>Vriddhachalam</td>\n",
       "      <td>25908</td>\n",
       "      <td>13.17</td>\n",
       "      <td>196734</td>\n",
       "      <td>0</td>\n",
       "    </tr>\n",
       "  </tbody>\n",
       "</table>\n",
       "</div>"
      ],
      "text/plain": [
       "     constituency  Total votes      %  All party votes  result\n",
       "44  Vriddhachalam        25908  13.17           196734       0"
      ]
     },
     "execution_count": 385,
     "metadata": {},
     "output_type": "execute_result"
    }
   ],
   "source": [
    "df_dmdk[df_dmdk['%']>10]"
   ]
  },
  {
   "cell_type": "code",
   "execution_count": 386,
   "metadata": {},
   "outputs": [
    {
     "data": {
      "text/html": [
       "<div>\n",
       "<style scoped>\n",
       "    .dataframe tbody tr th:only-of-type {\n",
       "        vertical-align: middle;\n",
       "    }\n",
       "\n",
       "    .dataframe tbody tr th {\n",
       "        vertical-align: top;\n",
       "    }\n",
       "\n",
       "    .dataframe thead th {\n",
       "        text-align: right;\n",
       "    }\n",
       "</style>\n",
       "<table border=\"1\" class=\"dataframe\">\n",
       "  <thead>\n",
       "    <tr style=\"text-align: right;\">\n",
       "      <th></th>\n",
       "      <th>constituency</th>\n",
       "      <th>Total votes</th>\n",
       "      <th>%</th>\n",
       "      <th>All party votes</th>\n",
       "      <th>result</th>\n",
       "    </tr>\n",
       "  </thead>\n",
       "  <tbody>\n",
       "  </tbody>\n",
       "</table>\n",
       "</div>"
      ],
      "text/plain": [
       "Empty DataFrame\n",
       "Columns: [constituency, Total votes, %, All party votes, result]\n",
       "Index: []"
      ]
     },
     "execution_count": 386,
     "metadata": {},
     "output_type": "execute_result"
    }
   ],
   "source": [
    "df_dmdk[df_dmdk.result == 1]"
   ]
  },
  {
   "cell_type": "markdown",
   "metadata": {},
   "source": [
    "# INC"
   ]
  },
  {
   "cell_type": "code",
   "execution_count": 387,
   "metadata": {},
   "outputs": [
    {
     "name": "stderr",
     "output_type": "stream",
     "text": [
      "100%|████████████████████████████████████████████████████████████████████████████████| 234/234 [00:26<00:00,  8.99it/s]\n"
     ]
    }
   ],
   "source": [
    "df_inc = get_data('Indian National Congress')"
   ]
  },
  {
   "cell_type": "code",
   "execution_count": 388,
   "metadata": {},
   "outputs": [
    {
     "data": {
      "text/html": [
       "<div>\n",
       "<style scoped>\n",
       "    .dataframe tbody tr th:only-of-type {\n",
       "        vertical-align: middle;\n",
       "    }\n",
       "\n",
       "    .dataframe tbody tr th {\n",
       "        vertical-align: top;\n",
       "    }\n",
       "\n",
       "    .dataframe thead th {\n",
       "        text-align: right;\n",
       "    }\n",
       "</style>\n",
       "<table border=\"1\" class=\"dataframe\">\n",
       "  <thead>\n",
       "    <tr style=\"text-align: right;\">\n",
       "      <th></th>\n",
       "      <th>Total votes</th>\n",
       "      <th>%</th>\n",
       "      <th>All party votes</th>\n",
       "      <th>result</th>\n",
       "    </tr>\n",
       "  </thead>\n",
       "  <tbody>\n",
       "    <tr>\n",
       "      <th>count</th>\n",
       "      <td>25.000000</td>\n",
       "      <td>25.000000</td>\n",
       "      <td>25.000000</td>\n",
       "      <td>25.000000</td>\n",
       "    </tr>\n",
       "    <tr>\n",
       "      <th>mean</th>\n",
       "      <td>79061.080000</td>\n",
       "      <td>41.531600</td>\n",
       "      <td>191164.360000</td>\n",
       "      <td>0.720000</td>\n",
       "    </tr>\n",
       "    <tr>\n",
       "      <th>std</th>\n",
       "      <td>16797.519264</td>\n",
       "      <td>7.552336</td>\n",
       "      <td>29437.004678</td>\n",
       "      <td>0.458258</td>\n",
       "    </tr>\n",
       "    <tr>\n",
       "      <th>min</th>\n",
       "      <td>42383.000000</td>\n",
       "      <td>26.360000</td>\n",
       "      <td>141102.000000</td>\n",
       "      <td>0.000000</td>\n",
       "    </tr>\n",
       "    <tr>\n",
       "      <th>25%</th>\n",
       "      <td>71288.000000</td>\n",
       "      <td>37.870000</td>\n",
       "      <td>169918.000000</td>\n",
       "      <td>0.000000</td>\n",
       "    </tr>\n",
       "    <tr>\n",
       "      <th>50%</th>\n",
       "      <td>77064.000000</td>\n",
       "      <td>41.710000</td>\n",
       "      <td>185047.000000</td>\n",
       "      <td>1.000000</td>\n",
       "    </tr>\n",
       "    <tr>\n",
       "      <th>75%</th>\n",
       "      <td>87473.000000</td>\n",
       "      <td>46.440000</td>\n",
       "      <td>210354.000000</td>\n",
       "      <td>1.000000</td>\n",
       "    </tr>\n",
       "    <tr>\n",
       "      <th>max</th>\n",
       "      <td>115353.000000</td>\n",
       "      <td>59.760000</td>\n",
       "      <td>264262.000000</td>\n",
       "      <td>1.000000</td>\n",
       "    </tr>\n",
       "  </tbody>\n",
       "</table>\n",
       "</div>"
      ],
      "text/plain": [
       "         Total votes          %  All party votes     result\n",
       "count      25.000000  25.000000        25.000000  25.000000\n",
       "mean    79061.080000  41.531600    191164.360000   0.720000\n",
       "std     16797.519264   7.552336     29437.004678   0.458258\n",
       "min     42383.000000  26.360000    141102.000000   0.000000\n",
       "25%     71288.000000  37.870000    169918.000000   0.000000\n",
       "50%     77064.000000  41.710000    185047.000000   1.000000\n",
       "75%     87473.000000  46.440000    210354.000000   1.000000\n",
       "max    115353.000000  59.760000    264262.000000   1.000000"
      ]
     },
     "execution_count": 388,
     "metadata": {},
     "output_type": "execute_result"
    }
   ],
   "source": [
    "df_inc.describe()"
   ]
  },
  {
   "cell_type": "code",
   "execution_count": 389,
   "metadata": {},
   "outputs": [
    {
     "data": {
      "text/plain": [
       "18"
      ]
     },
     "execution_count": 389,
     "metadata": {},
     "output_type": "execute_result"
    }
   ],
   "source": [
    "df_inc.result.sum()"
   ]
  },
  {
   "cell_type": "code",
   "execution_count": 390,
   "metadata": {},
   "outputs": [
    {
     "name": "stdout",
     "output_type": "stream",
     "text": [
      "Overall vote percentage = 41.358 %\n"
     ]
    }
   ],
   "source": [
    "vote_per = 100*df_inc[\"Total votes\"].sum()/df_inc['All party votes'].sum()\n",
    "print('Overall vote percentage = {0:.3f} %'.format(vote_per))"
   ]
  },
  {
   "cell_type": "code",
   "execution_count": 391,
   "metadata": {},
   "outputs": [
    {
     "data": {
      "text/plain": [
       "<AxesSubplot:title={'center':'INC'}, xlabel='constituency'>"
      ]
     },
     "execution_count": 391,
     "metadata": {},
     "output_type": "execute_result"
    },
    {
     "data": {
      "image/png": "[encoded data removed]",
      "text/plain": [
       "<Figure size 1080x720 with 1 Axes>"
      ]
     },
     "metadata": {
      "needs_background": "light"
     },
     "output_type": "display_data"
    }
   ],
   "source": [
    "df_inc.plot(x=\"constituency\", y=\"%\", kind=\"bar\",color=df_inc['result'].replace({1: \"green\", 0: \"red\"}), title='INC', figsize=(15, 10))"
   ]
  },
  {
   "cell_type": "code",
   "execution_count": 392,
   "metadata": {},
   "outputs": [
    {
     "data": {
      "text/html": [
       "<div>\n",
       "<style scoped>\n",
       "    .dataframe tbody tr th:only-of-type {\n",
       "        vertical-align: middle;\n",
       "    }\n",
       "\n",
       "    .dataframe tbody tr th {\n",
       "        vertical-align: top;\n",
       "    }\n",
       "\n",
       "    .dataframe thead th {\n",
       "        text-align: right;\n",
       "    }\n",
       "</style>\n",
       "<table border=\"1\" class=\"dataframe\">\n",
       "  <thead>\n",
       "    <tr style=\"text-align: right;\">\n",
       "      <th></th>\n",
       "      <th>constituency</th>\n",
       "      <th>Total votes</th>\n",
       "      <th>%</th>\n",
       "      <th>All party votes</th>\n",
       "      <th>result</th>\n",
       "    </tr>\n",
       "  </thead>\n",
       "  <tbody>\n",
       "    <tr>\n",
       "      <th>0</th>\n",
       "      <td>Ponneri</td>\n",
       "      <td>94528</td>\n",
       "      <td>44.94</td>\n",
       "      <td>210354</td>\n",
       "      <td>1</td>\n",
       "    </tr>\n",
       "    <tr>\n",
       "      <th>2</th>\n",
       "      <td>Sriperumbudur</td>\n",
       "      <td>115353</td>\n",
       "      <td>43.65</td>\n",
       "      <td>264262</td>\n",
       "      <td>1</td>\n",
       "    </tr>\n",
       "    <tr>\n",
       "      <th>3</th>\n",
       "      <td>Sholinghur</td>\n",
       "      <td>110228</td>\n",
       "      <td>49.18</td>\n",
       "      <td>224109</td>\n",
       "      <td>1</td>\n",
       "    </tr>\n",
       "    <tr>\n",
       "      <th>7</th>\n",
       "      <td>Erode (East)</td>\n",
       "      <td>67300</td>\n",
       "      <td>44.27</td>\n",
       "      <td>152037</td>\n",
       "      <td>1</td>\n",
       "    </tr>\n",
       "    <tr>\n",
       "      <th>8</th>\n",
       "      <td>Udhagamandalam</td>\n",
       "      <td>65530</td>\n",
       "      <td>46.44</td>\n",
       "      <td>141102</td>\n",
       "      <td>1</td>\n",
       "    </tr>\n",
       "    <tr>\n",
       "      <th>13</th>\n",
       "      <td>Aranthangi</td>\n",
       "      <td>81835</td>\n",
       "      <td>48.70</td>\n",
       "      <td>168048</td>\n",
       "      <td>1</td>\n",
       "    </tr>\n",
       "    <tr>\n",
       "      <th>19</th>\n",
       "      <td>Srivaikuntam</td>\n",
       "      <td>76843</td>\n",
       "      <td>46.75</td>\n",
       "      <td>164386</td>\n",
       "      <td>1</td>\n",
       "    </tr>\n",
       "    <tr>\n",
       "      <th>22</th>\n",
       "      <td>Colachal</td>\n",
       "      <td>90681</td>\n",
       "      <td>49.56</td>\n",
       "      <td>182969</td>\n",
       "      <td>1</td>\n",
       "    </tr>\n",
       "    <tr>\n",
       "      <th>23</th>\n",
       "      <td>Vilavancode</td>\n",
       "      <td>87473</td>\n",
       "      <td>52.12</td>\n",
       "      <td>167836</td>\n",
       "      <td>1</td>\n",
       "    </tr>\n",
       "    <tr>\n",
       "      <th>24</th>\n",
       "      <td>Killiyoor</td>\n",
       "      <td>101541</td>\n",
       "      <td>59.76</td>\n",
       "      <td>169918</td>\n",
       "      <td>1</td>\n",
       "    </tr>\n",
       "  </tbody>\n",
       "</table>\n",
       "</div>"
      ],
      "text/plain": [
       "      constituency  Total votes      %  All party votes  result\n",
       "0          Ponneri        94528  44.94           210354       1\n",
       "2    Sriperumbudur       115353  43.65           264262       1\n",
       "3       Sholinghur       110228  49.18           224109       1\n",
       "7     Erode (East)        67300  44.27           152037       1\n",
       "8   Udhagamandalam        65530  46.44           141102       1\n",
       "13      Aranthangi        81835  48.70           168048       1\n",
       "19    Srivaikuntam        76843  46.75           164386       1\n",
       "22        Colachal        90681  49.56           182969       1\n",
       "23     Vilavancode        87473  52.12           167836       1\n",
       "24       Killiyoor       101541  59.76           169918       1"
      ]
     },
     "execution_count": 392,
     "metadata": {},
     "output_type": "execute_result"
    }
   ],
   "source": [
    "df_inc[df_inc['%']>43]"
   ]
  },
  {
   "cell_type": "code",
   "execution_count": 393,
   "metadata": {},
   "outputs": [
    {
     "data": {
      "text/html": [
       "<div>\n",
       "<style scoped>\n",
       "    .dataframe tbody tr th:only-of-type {\n",
       "        vertical-align: middle;\n",
       "    }\n",
       "\n",
       "    .dataframe tbody tr th {\n",
       "        vertical-align: top;\n",
       "    }\n",
       "\n",
       "    .dataframe thead th {\n",
       "        text-align: right;\n",
       "    }\n",
       "</style>\n",
       "<table border=\"1\" class=\"dataframe\">\n",
       "  <thead>\n",
       "    <tr style=\"text-align: right;\">\n",
       "      <th></th>\n",
       "      <th>constituency</th>\n",
       "      <th>Total votes</th>\n",
       "      <th>%</th>\n",
       "      <th>All party votes</th>\n",
       "      <th>result</th>\n",
       "    </tr>\n",
       "  </thead>\n",
       "  <tbody>\n",
       "    <tr>\n",
       "      <th>0</th>\n",
       "      <td>Ponneri</td>\n",
       "      <td>94528</td>\n",
       "      <td>44.94</td>\n",
       "      <td>210354</td>\n",
       "      <td>1</td>\n",
       "    </tr>\n",
       "    <tr>\n",
       "      <th>1</th>\n",
       "      <td>Velachery</td>\n",
       "      <td>68493</td>\n",
       "      <td>38.76</td>\n",
       "      <td>176714</td>\n",
       "      <td>1</td>\n",
       "    </tr>\n",
       "    <tr>\n",
       "      <th>2</th>\n",
       "      <td>Sriperumbudur</td>\n",
       "      <td>115353</td>\n",
       "      <td>43.65</td>\n",
       "      <td>264262</td>\n",
       "      <td>1</td>\n",
       "    </tr>\n",
       "    <tr>\n",
       "      <th>3</th>\n",
       "      <td>Sholinghur</td>\n",
       "      <td>110228</td>\n",
       "      <td>49.18</td>\n",
       "      <td>224109</td>\n",
       "      <td>1</td>\n",
       "    </tr>\n",
       "    <tr>\n",
       "      <th>7</th>\n",
       "      <td>Erode (East)</td>\n",
       "      <td>67300</td>\n",
       "      <td>44.27</td>\n",
       "      <td>152037</td>\n",
       "      <td>1</td>\n",
       "    </tr>\n",
       "    <tr>\n",
       "      <th>8</th>\n",
       "      <td>Udhagamandalam</td>\n",
       "      <td>65530</td>\n",
       "      <td>46.44</td>\n",
       "      <td>141102</td>\n",
       "      <td>1</td>\n",
       "    </tr>\n",
       "    <tr>\n",
       "      <th>11</th>\n",
       "      <td>Vriddhachalam</td>\n",
       "      <td>77064</td>\n",
       "      <td>39.17</td>\n",
       "      <td>196734</td>\n",
       "      <td>1</td>\n",
       "    </tr>\n",
       "    <tr>\n",
       "      <th>12</th>\n",
       "      <td>Mayiladuthurai</td>\n",
       "      <td>73642</td>\n",
       "      <td>42.17</td>\n",
       "      <td>174640</td>\n",
       "      <td>1</td>\n",
       "    </tr>\n",
       "    <tr>\n",
       "      <th>13</th>\n",
       "      <td>Aranthangi</td>\n",
       "      <td>81835</td>\n",
       "      <td>48.70</td>\n",
       "      <td>168048</td>\n",
       "      <td>1</td>\n",
       "    </tr>\n",
       "    <tr>\n",
       "      <th>14</th>\n",
       "      <td>Karaikudi</td>\n",
       "      <td>75954</td>\n",
       "      <td>35.75</td>\n",
       "      <td>212456</td>\n",
       "      <td>1</td>\n",
       "    </tr>\n",
       "    <tr>\n",
       "      <th>17</th>\n",
       "      <td>Sivakasi</td>\n",
       "      <td>78947</td>\n",
       "      <td>42.66</td>\n",
       "      <td>185047</td>\n",
       "      <td>1</td>\n",
       "    </tr>\n",
       "    <tr>\n",
       "      <th>18</th>\n",
       "      <td>Tiruvadanai</td>\n",
       "      <td>79364</td>\n",
       "      <td>39.33</td>\n",
       "      <td>201815</td>\n",
       "      <td>1</td>\n",
       "    </tr>\n",
       "    <tr>\n",
       "      <th>19</th>\n",
       "      <td>Srivaikuntam</td>\n",
       "      <td>76843</td>\n",
       "      <td>46.75</td>\n",
       "      <td>164386</td>\n",
       "      <td>1</td>\n",
       "    </tr>\n",
       "    <tr>\n",
       "      <th>20</th>\n",
       "      <td>Tenkasi</td>\n",
       "      <td>89315</td>\n",
       "      <td>41.71</td>\n",
       "      <td>214108</td>\n",
       "      <td>1</td>\n",
       "    </tr>\n",
       "    <tr>\n",
       "      <th>21</th>\n",
       "      <td>Nanguneri</td>\n",
       "      <td>75902</td>\n",
       "      <td>39.43</td>\n",
       "      <td>192522</td>\n",
       "      <td>1</td>\n",
       "    </tr>\n",
       "    <tr>\n",
       "      <th>22</th>\n",
       "      <td>Colachal</td>\n",
       "      <td>90681</td>\n",
       "      <td>49.56</td>\n",
       "      <td>182969</td>\n",
       "      <td>1</td>\n",
       "    </tr>\n",
       "    <tr>\n",
       "      <th>23</th>\n",
       "      <td>Vilavancode</td>\n",
       "      <td>87473</td>\n",
       "      <td>52.12</td>\n",
       "      <td>167836</td>\n",
       "      <td>1</td>\n",
       "    </tr>\n",
       "    <tr>\n",
       "      <th>24</th>\n",
       "      <td>Killiyoor</td>\n",
       "      <td>101541</td>\n",
       "      <td>59.76</td>\n",
       "      <td>169918</td>\n",
       "      <td>1</td>\n",
       "    </tr>\n",
       "  </tbody>\n",
       "</table>\n",
       "</div>"
      ],
      "text/plain": [
       "      constituency  Total votes      %  All party votes  result\n",
       "0          Ponneri        94528  44.94           210354       1\n",
       "1        Velachery        68493  38.76           176714       1\n",
       "2    Sriperumbudur       115353  43.65           264262       1\n",
       "3       Sholinghur       110228  49.18           224109       1\n",
       "7     Erode (East)        67300  44.27           152037       1\n",
       "8   Udhagamandalam        65530  46.44           141102       1\n",
       "11   Vriddhachalam        77064  39.17           196734       1\n",
       "12  Mayiladuthurai        73642  42.17           174640       1\n",
       "13      Aranthangi        81835  48.70           168048       1\n",
       "14       Karaikudi        75954  35.75           212456       1\n",
       "17        Sivakasi        78947  42.66           185047       1\n",
       "18     Tiruvadanai        79364  39.33           201815       1\n",
       "19    Srivaikuntam        76843  46.75           164386       1\n",
       "20         Tenkasi        89315  41.71           214108       1\n",
       "21       Nanguneri        75902  39.43           192522       1\n",
       "22        Colachal        90681  49.56           182969       1\n",
       "23     Vilavancode        87473  52.12           167836       1\n",
       "24       Killiyoor       101541  59.76           169918       1"
      ]
     },
     "execution_count": 393,
     "metadata": {},
     "output_type": "execute_result"
    }
   ],
   "source": [
    "df_inc[df_inc.result == 1]"
   ]
  },
  {
   "cell_type": "markdown",
   "metadata": {},
   "source": [
    "# PMK"
   ]
  },
  {
   "cell_type": "code",
   "execution_count": 394,
   "metadata": {},
   "outputs": [
    {
     "name": "stderr",
     "output_type": "stream",
     "text": [
      "100%|████████████████████████████████████████████████████████████████████████████████| 234/234 [00:29<00:00,  7.85it/s]\n"
     ]
    }
   ],
   "source": [
    "df_pmk = get_data('Pattali Makkal Katchi')"
   ]
  },
  {
   "cell_type": "code",
   "execution_count": 395,
   "metadata": {},
   "outputs": [
    {
     "data": {
      "text/plain": [
       "5"
      ]
     },
     "execution_count": 395,
     "metadata": {},
     "output_type": "execute_result"
    }
   ],
   "source": [
    "df_pmk.result.sum()"
   ]
  },
  {
   "cell_type": "code",
   "execution_count": 396,
   "metadata": {},
   "outputs": [
    {
     "name": "stdout",
     "output_type": "stream",
     "text": [
      "Overall vote percentage = 37.611 %\n"
     ]
    }
   ],
   "source": [
    "vote_per = 100*df_pmk[\"Total votes\"].sum()/df_pmk['All party votes'].sum()\n",
    "print('Overall vote percentage = {0:.3f} %'.format(vote_per))"
   ]
  },
  {
   "cell_type": "code",
   "execution_count": 397,
   "metadata": {},
   "outputs": [
    {
     "data": {
      "text/plain": [
       "<AxesSubplot:title={'center':'PMK'}, xlabel='constituency'>"
      ]
     },
     "execution_count": 397,
     "metadata": {},
     "output_type": "execute_result"
    },
    {
     "data": {
      "image/png": "[encoded data removed]",
      "text/plain": [
       "<Figure size 1080x720 with 1 Axes>"
      ]
     },
     "metadata": {
      "needs_background": "light"
     },
     "output_type": "display_data"
    }
   ],
   "source": [
    "df_pmk.plot(x=\"constituency\", y=\"%\", kind=\"bar\",color=df_pmk['result'].replace({1: \"green\", 0: \"red\"}), title='PMK', figsize=(15, 10))"
   ]
  },
  {
   "cell_type": "code",
   "execution_count": 398,
   "metadata": {},
   "outputs": [
    {
     "data": {
      "text/html": [
       "<div>\n",
       "<style scoped>\n",
       "    .dataframe tbody tr th:only-of-type {\n",
       "        vertical-align: middle;\n",
       "    }\n",
       "\n",
       "    .dataframe tbody tr th {\n",
       "        vertical-align: top;\n",
       "    }\n",
       "\n",
       "    .dataframe thead th {\n",
       "        text-align: right;\n",
       "    }\n",
       "</style>\n",
       "<table border=\"1\" class=\"dataframe\">\n",
       "  <thead>\n",
       "    <tr style=\"text-align: right;\">\n",
       "      <th></th>\n",
       "      <th>constituency</th>\n",
       "      <th>Total votes</th>\n",
       "      <th>%</th>\n",
       "      <th>All party votes</th>\n",
       "      <th>result</th>\n",
       "    </tr>\n",
       "  </thead>\n",
       "  <tbody>\n",
       "    <tr>\n",
       "      <th>8</th>\n",
       "      <td>Pennagaram</td>\n",
       "      <td>106123</td>\n",
       "      <td>50.46</td>\n",
       "      <td>210305</td>\n",
       "      <td>1</td>\n",
       "    </tr>\n",
       "    <tr>\n",
       "      <th>9</th>\n",
       "      <td>Dharmapuri</td>\n",
       "      <td>105630</td>\n",
       "      <td>48.60</td>\n",
       "      <td>217333</td>\n",
       "      <td>1</td>\n",
       "    </tr>\n",
       "    <tr>\n",
       "      <th>13</th>\n",
       "      <td>Mailam</td>\n",
       "      <td>81044</td>\n",
       "      <td>45.79</td>\n",
       "      <td>176989</td>\n",
       "      <td>1</td>\n",
       "    </tr>\n",
       "    <tr>\n",
       "      <th>15</th>\n",
       "      <td>Mettur</td>\n",
       "      <td>97055</td>\n",
       "      <td>44.43</td>\n",
       "      <td>218442</td>\n",
       "      <td>1</td>\n",
       "    </tr>\n",
       "    <tr>\n",
       "      <th>16</th>\n",
       "      <td>Salem (West)</td>\n",
       "      <td>105483</td>\n",
       "      <td>48.69</td>\n",
       "      <td>216628</td>\n",
       "      <td>1</td>\n",
       "    </tr>\n",
       "  </tbody>\n",
       "</table>\n",
       "</div>"
      ],
      "text/plain": [
       "    constituency  Total votes      %  All party votes  result\n",
       "8     Pennagaram       106123  50.46           210305       1\n",
       "9     Dharmapuri       105630  48.60           217333       1\n",
       "13        Mailam        81044  45.79           176989       1\n",
       "15        Mettur        97055  44.43           218442       1\n",
       "16  Salem (West)       105483  48.69           216628       1"
      ]
     },
     "execution_count": 398,
     "metadata": {},
     "output_type": "execute_result"
    }
   ],
   "source": [
    "df_pmk[df_pmk.result == 1]"
   ]
  },
  {
   "cell_type": "markdown",
   "metadata": {},
   "source": [
    "# VCK"
   ]
  },
  {
   "cell_type": "code",
   "execution_count": 399,
   "metadata": {},
   "outputs": [
    {
     "name": "stderr",
     "output_type": "stream",
     "text": [
      "100%|████████████████████████████████████████████████████████████████████████████████| 234/234 [00:30<00:00,  7.75it/s]\n"
     ]
    }
   ],
   "source": [
    "df_vck = get_data('Viduthalai Chiruthaigal Katchi')"
   ]
  },
  {
   "cell_type": "code",
   "execution_count": 400,
   "metadata": {},
   "outputs": [
    {
     "data": {
      "text/plain": [
       "4"
      ]
     },
     "execution_count": 400,
     "metadata": {},
     "output_type": "execute_result"
    }
   ],
   "source": [
    "df_vck.result.sum()"
   ]
  },
  {
   "cell_type": "code",
   "execution_count": 401,
   "metadata": {},
   "outputs": [
    {
     "name": "stdout",
     "output_type": "stream",
     "text": [
      "Overall vote percentage = 42.441 %\n"
     ]
    }
   ],
   "source": [
    "vote_per = 100*df_vck[\"Total votes\"].sum()/df_vck['All party votes'].sum()\n",
    "print('Overall vote percentage = {0:.3f} %'.format(vote_per))"
   ]
  },
  {
   "cell_type": "code",
   "execution_count": 402,
   "metadata": {},
   "outputs": [
    {
     "data": {
      "text/plain": [
       "<AxesSubplot:title={'center':'VCK'}, xlabel='constituency'>"
      ]
     },
     "execution_count": 402,
     "metadata": {},
     "output_type": "execute_result"
    },
    {
     "data": {
      "image/png": "[encoded data removed]",
      "text/plain": [
       "<Figure size 1080x720 with 1 Axes>"
      ]
     },
     "metadata": {
      "needs_background": "light"
     },
     "output_type": "display_data"
    }
   ],
   "source": [
    "df_vck.plot(x=\"constituency\", y=\"%\", kind=\"bar\",color=df_vck['result'].replace({1: \"green\", 0: \"red\"}), title='VCK', figsize=(15, 10))"
   ]
  },
  {
   "cell_type": "code",
   "execution_count": 403,
   "metadata": {},
   "outputs": [
    {
     "data": {
      "text/html": [
       "<div>\n",
       "<style scoped>\n",
       "    .dataframe tbody tr th:only-of-type {\n",
       "        vertical-align: middle;\n",
       "    }\n",
       "\n",
       "    .dataframe tbody tr th {\n",
       "        vertical-align: top;\n",
       "    }\n",
       "\n",
       "    .dataframe thead th {\n",
       "        text-align: right;\n",
       "    }\n",
       "</style>\n",
       "<table border=\"1\" class=\"dataframe\">\n",
       "  <thead>\n",
       "    <tr style=\"text-align: right;\">\n",
       "      <th></th>\n",
       "      <th>constituency</th>\n",
       "      <th>Total votes</th>\n",
       "      <th>%</th>\n",
       "      <th>All party votes</th>\n",
       "      <th>result</th>\n",
       "    </tr>\n",
       "  </thead>\n",
       "  <tbody>\n",
       "    <tr>\n",
       "      <th>0</th>\n",
       "      <td>Thiruporur</td>\n",
       "      <td>93954</td>\n",
       "      <td>41.44</td>\n",
       "      <td>226729</td>\n",
       "      <td>1</td>\n",
       "    </tr>\n",
       "    <tr>\n",
       "      <th>1</th>\n",
       "      <td>Cheyyur</td>\n",
       "      <td>82750</td>\n",
       "      <td>46.20</td>\n",
       "      <td>179120</td>\n",
       "      <td>1</td>\n",
       "    </tr>\n",
       "    <tr>\n",
       "      <th>4</th>\n",
       "      <td>Kattumannarkoil</td>\n",
       "      <td>86056</td>\n",
       "      <td>49.02</td>\n",
       "      <td>175561</td>\n",
       "      <td>1</td>\n",
       "    </tr>\n",
       "    <tr>\n",
       "      <th>5</th>\n",
       "      <td>Nagapattinam</td>\n",
       "      <td>66281</td>\n",
       "      <td>46.17</td>\n",
       "      <td>143560</td>\n",
       "      <td>1</td>\n",
       "    </tr>\n",
       "  </tbody>\n",
       "</table>\n",
       "</div>"
      ],
      "text/plain": [
       "      constituency  Total votes      %  All party votes  result\n",
       "0       Thiruporur        93954  41.44           226729       1\n",
       "1          Cheyyur        82750  46.20           179120       1\n",
       "4  Kattumannarkoil        86056  49.02           175561       1\n",
       "5     Nagapattinam        66281  46.17           143560       1"
      ]
     },
     "execution_count": 403,
     "metadata": {},
     "output_type": "execute_result"
    }
   ],
   "source": [
    "df_vck[df_vck.result == 1]"
   ]
  },
  {
   "cell_type": "markdown",
   "metadata": {},
   "source": [
    "# BJP"
   ]
  },
  {
   "cell_type": "code",
   "execution_count": 404,
   "metadata": {},
   "outputs": [
    {
     "name": "stderr",
     "output_type": "stream",
     "text": [
      "100%|████████████████████████████████████████████████████████████████████████████████| 234/234 [00:28<00:00,  8.22it/s]\n"
     ]
    }
   ],
   "source": [
    "df_bjp = get_data('Bharatiya Janata Party')"
   ]
  },
  {
   "cell_type": "code",
   "execution_count": 405,
   "metadata": {},
   "outputs": [
    {
     "data": {
      "text/plain": [
       "4"
      ]
     },
     "execution_count": 405,
     "metadata": {},
     "output_type": "execute_result"
    }
   ],
   "source": [
    "df_bjp.result.sum()"
   ]
  },
  {
   "cell_type": "code",
   "execution_count": 406,
   "metadata": {},
   "outputs": [
    {
     "name": "stdout",
     "output_type": "stream",
     "text": [
      "Overall vote percentage = 34.256 %\n"
     ]
    }
   ],
   "source": [
    "vote_per = 100*df_bjp[\"Total votes\"].sum()/df_bjp['All party votes'].sum()\n",
    "print('Overall vote percentage = {0:.3f} %'.format(vote_per))"
   ]
  },
  {
   "cell_type": "code",
   "execution_count": 407,
   "metadata": {},
   "outputs": [
    {
     "data": {
      "text/plain": [
       "<AxesSubplot:title={'center':'BJP'}, xlabel='constituency'>"
      ]
     },
     "execution_count": 407,
     "metadata": {},
     "output_type": "execute_result"
    },
    {
     "data": {
      "image/png": "[encoded data removed]",
      "text/plain": [
       "<Figure size 1080x720 with 1 Axes>"
      ]
     },
     "metadata": {
      "needs_background": "light"
     },
     "output_type": "display_data"
    }
   ],
   "source": [
    "df_bjp.plot(x=\"constituency\", y=\"%\", kind=\"bar\",color=df_bjp['result'].replace({1: \"green\", 0: \"red\"}), title='BJP', figsize=(15, 10))"
   ]
  },
  {
   "cell_type": "code",
   "execution_count": 408,
   "metadata": {},
   "outputs": [
    {
     "data": {
      "text/html": [
       "<div>\n",
       "<style scoped>\n",
       "    .dataframe tbody tr th:only-of-type {\n",
       "        vertical-align: middle;\n",
       "    }\n",
       "\n",
       "    .dataframe tbody tr th {\n",
       "        vertical-align: top;\n",
       "    }\n",
       "\n",
       "    .dataframe thead th {\n",
       "        text-align: right;\n",
       "    }\n",
       "</style>\n",
       "<table border=\"1\" class=\"dataframe\">\n",
       "  <thead>\n",
       "    <tr style=\"text-align: right;\">\n",
       "      <th></th>\n",
       "      <th>constituency</th>\n",
       "      <th>Total votes</th>\n",
       "      <th>%</th>\n",
       "      <th>All party votes</th>\n",
       "      <th>result</th>\n",
       "    </tr>\n",
       "  </thead>\n",
       "  <tbody>\n",
       "    <tr>\n",
       "      <th>5</th>\n",
       "      <td>Modakkurichi</td>\n",
       "      <td>78125</td>\n",
       "      <td>42.96</td>\n",
       "      <td>181857</td>\n",
       "      <td>1</td>\n",
       "    </tr>\n",
       "    <tr>\n",
       "      <th>8</th>\n",
       "      <td>Coimbatore (South)</td>\n",
       "      <td>53209</td>\n",
       "      <td>34.38</td>\n",
       "      <td>154765</td>\n",
       "      <td>1</td>\n",
       "    </tr>\n",
       "    <tr>\n",
       "      <th>16</th>\n",
       "      <td>Tirunelveli</td>\n",
       "      <td>92282</td>\n",
       "      <td>46.70</td>\n",
       "      <td>197587</td>\n",
       "      <td>1</td>\n",
       "    </tr>\n",
       "    <tr>\n",
       "      <th>17</th>\n",
       "      <td>Nagercoil</td>\n",
       "      <td>88804</td>\n",
       "      <td>48.21</td>\n",
       "      <td>184185</td>\n",
       "      <td>1</td>\n",
       "    </tr>\n",
       "  </tbody>\n",
       "</table>\n",
       "</div>"
      ],
      "text/plain": [
       "          constituency  Total votes      %  All party votes  result\n",
       "5         Modakkurichi        78125  42.96           181857       1\n",
       "8   Coimbatore (South)        53209  34.38           154765       1\n",
       "16         Tirunelveli        92282  46.70           197587       1\n",
       "17           Nagercoil        88804  48.21           184185       1"
      ]
     },
     "execution_count": 408,
     "metadata": {},
     "output_type": "execute_result"
    }
   ],
   "source": [
    "df_bjp[df_bjp.result == 1]"
   ]
  },
  {
   "cell_type": "code",
   "execution_count": null,
   "metadata": {},
   "outputs": [],
   "source": []
  },
  {
   "cell_type": "code",
   "execution_count": null,
   "metadata": {},
   "outputs": [],
   "source": []
  }
 ],
 "metadata": {
  "kernelspec": {
   "display_name": "Python 3",
   "language": "python",
   "name": "python3"
  },
  "language_info": {
   "codemirror_mode": {
    "name": "ipython",
    "version": 3
   },
   "file_extension": ".py",
   "mimetype": "text/x-python",
   "name": "python",
   "nbconvert_exporter": "python",
   "pygments_lexer": "ipython3",
   "version": "3.8.5"
  }
 },
 "nbformat": 4,
 "nbformat_minor": 4
}
